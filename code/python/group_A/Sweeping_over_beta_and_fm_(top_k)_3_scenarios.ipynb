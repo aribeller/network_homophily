{
  "cells": [
    {
      "cell_type": "markdown",
      "metadata": {
        "id": "aKtjvv95eltF"
      },
      "source": [
        "This is a tiny amount of scaffolding around the directed homophilic preferential attachment code written by Lisette Espin and others ([available here](https://github.com/gesiscss/Homophilic_Directed_ScaleFree_Networks)). In particular, we replicate a simple case where homophily within groups can lead to inequities between groups, defined as underrepresentation of minorities in the top k% of ranks."
      ]
    },
    {
      "cell_type": "code",
      "execution_count": null,
      "metadata": {
        "id": "czqZPIv9eltI"
      },
      "outputs": [],
      "source": [
        "%load_ext autoreload\n",
        "%autoreload 2\n",
        "%matplotlib inline\n",
        "\n",
        "import time\n",
        "\n",
        "import os\n",
        "\n",
        "import numpy as np\n",
        "import networkx as nx\n",
        "import matplotlib.pyplot as plt\n",
        "import seaborn as sns\n",
        "import pandas as pd\n",
        "from tqdm import tqdm"
      ]
    },
    {
      "cell_type": "code",
      "execution_count": null,
      "metadata": {
        "colab": {
          "base_uri": "https://localhost:8080/"
        },
        "id": "qpjESlhRey7d",
        "outputId": "2d800411-4f81-4d62-d86e-d9ed56093141"
      },
      "outputs": [
        {
          "output_type": "stream",
          "name": "stdout",
          "text": [
            "Looking in indexes: https://pypi.org/simple, https://us-python.pkg.dev/colab-wheels/public/simple/\n",
            "Collecting powerlaw\n",
            "  Downloading powerlaw-1.5-py3-none-any.whl (24 kB)\n",
            "Requirement already satisfied: scipy in /usr/local/lib/python3.7/dist-packages (from powerlaw) (1.7.3)\n",
            "Requirement already satisfied: mpmath in /usr/local/lib/python3.7/dist-packages (from powerlaw) (1.2.1)\n",
            "Requirement already satisfied: matplotlib in /usr/local/lib/python3.7/dist-packages (from powerlaw) (3.2.2)\n",
            "Requirement already satisfied: numpy in /usr/local/lib/python3.7/dist-packages (from powerlaw) (1.21.6)\n",
            "Requirement already satisfied: kiwisolver>=1.0.1 in /usr/local/lib/python3.7/dist-packages (from matplotlib->powerlaw) (1.4.4)\n",
            "Requirement already satisfied: pyparsing!=2.0.4,!=2.1.2,!=2.1.6,>=2.0.1 in /usr/local/lib/python3.7/dist-packages (from matplotlib->powerlaw) (3.0.9)\n",
            "Requirement already satisfied: cycler>=0.10 in /usr/local/lib/python3.7/dist-packages (from matplotlib->powerlaw) (0.11.0)\n",
            "Requirement already satisfied: python-dateutil>=2.1 in /usr/local/lib/python3.7/dist-packages (from matplotlib->powerlaw) (2.8.2)\n",
            "Requirement already satisfied: typing-extensions in /usr/local/lib/python3.7/dist-packages (from kiwisolver>=1.0.1->matplotlib->powerlaw) (4.1.1)\n",
            "Requirement already satisfied: six>=1.5 in /usr/local/lib/python3.7/dist-packages (from python-dateutil>=2.1->matplotlib->powerlaw) (1.15.0)\n",
            "Installing collected packages: powerlaw\n",
            "Successfully installed powerlaw-1.5\n"
          ]
        }
      ],
      "source": [
        "! pip install powerlaw"
      ]
    },
    {
      "cell_type": "code",
      "execution_count": null,
      "metadata": {
        "id": "x8dv_nyseltK"
      },
      "outputs": [],
      "source": [
        "from DPAH4 import DPAH4"
      ]
    },
    {
      "cell_type": "code",
      "execution_count": null,
      "metadata": {
        "id": "p9Ur7BZkeltL"
      },
      "outputs": [],
      "source": [
        "def compute_inequity(g, k):\n",
        "    \"\"\"Compute the proportion of allies and minorities in the top k ranks of g\"\"\"\n",
        "    node_pageranks = nx.pagerank(g)\n",
        "    node_pageranks_sorted = sorted(node_pageranks.items(), key=lambda x: x[1], reverse=True)\n",
        "    top_k = node_pageranks_sorted[:k]\n",
        "    \n",
        "    num_top_k_allies = 0\n",
        "    num_top_k_minority = 0\n",
        "    \n",
        "    for (node_id, _) in top_k:\n",
        "        if g.nodes[node_id]['m'] == 1: # is an ally:\n",
        "            num_top_k_allies += 1\n",
        "        elif g.nodes[node_id]['m'] == 2: # is minority\n",
        "            num_top_k_minority += 1\n",
        "    \n",
        "    return num_top_k_allies / k, num_top_k_minority / k"
      ]
    },
    {
      "cell_type": "code",
      "execution_count": null,
      "metadata": {
        "colab": {
          "base_uri": "https://localhost:8080/"
        },
        "id": "3HmWDZUweltM",
        "outputId": "7b0788f4-3449-4595-a8c2-d5ae59a58881",
        "scrolled": true
      },
      "outputs": [
        {
          "output_type": "stream",
          "name": "stdout",
          "text": [
            "50\n"
          ]
        }
      ],
      "source": [
        "# Number of nodes\n",
        "N = 1000\n",
        "\n",
        "# Top beta% of rankings to consider for inequity\n",
        "beta = 0.05\n",
        "\n",
        "# Top k nodes to consider for inequity. k = N * beta\n",
        "k = int(N * beta)\n",
        "\n",
        "# Fraction minority\n",
        "# fm = 0.2\n",
        "\n",
        "# Fraction allies\n",
        "fa = 0\n",
        "\n",
        "# homophily within majority group\n",
        "h_MM = 0.8\n",
        "\n",
        "# homophily within minority group\n",
        "h_mm = 0.8\n",
        "\n",
        "print(k)"
      ]
    },
    {
      "cell_type": "markdown",
      "metadata": {
        "id": "WPfZeoqIhyHi"
      },
      "source": [
        "We sweep over different values of allies/coverts with homophily parameters indicating that majorities accept allies/coverts, but neiether allies/coverts themselves nor the minorities accept them. **This is our scenario 1.**"
      ]
    },
    {
      "cell_type": "code",
      "execution_count": null,
      "metadata": {
        "colab": {
          "base_uri": "https://localhost:8080/",
          "height": 397
        },
        "id": "8bSncL9fhkr4",
        "outputId": "6e6a9863-a91a-40bf-c74c-ba2d774e188d"
      },
      "outputs": [
        {
          "output_type": "stream",
          "name": "stderr",
          "text": [
            "  0%|          | 0/10 [00:04<?, ?it/s]\n"
          ]
        },
        {
          "output_type": "error",
          "ename": "KeyboardInterrupt",
          "evalue": "ignored",
          "traceback": [
            "\u001b[0;31m---------------------------------------------------------------------------\u001b[0m",
            "\u001b[0;31mKeyboardInterrupt\u001b[0m                         Traceback (most recent call last)",
            "\u001b[0;32m<ipython-input-10-fb1025b470aa>\u001b[0m in \u001b[0;36m<module>\u001b[0;34m\u001b[0m\n\u001b[1;32m     20\u001b[0m               \u001b[0macceptance\u001b[0m \u001b[0;34m=\u001b[0m \u001b[0;34m\"maj\"\u001b[0m\u001b[0;34m,\u001b[0m\u001b[0;34m\u001b[0m\u001b[0;34m\u001b[0m\u001b[0m\n\u001b[1;32m     21\u001b[0m               \u001b[0mverbose\u001b[0m\u001b[0;34m=\u001b[0m\u001b[0;32mFalse\u001b[0m\u001b[0;34m,\u001b[0m\u001b[0;34m\u001b[0m\u001b[0;34m\u001b[0m\u001b[0m\n\u001b[0;32m---> 22\u001b[0;31m               seed=i)\n\u001b[0m\u001b[1;32m     23\u001b[0m \u001b[0;34m\u001b[0m\u001b[0m\n\u001b[1;32m     24\u001b[0m           \u001b[0;32mfor\u001b[0m \u001b[0mbeta\u001b[0m \u001b[0;32min\u001b[0m \u001b[0mbeta_list\u001b[0m\u001b[0;34m:\u001b[0m\u001b[0;34m\u001b[0m\u001b[0;34m\u001b[0m\u001b[0m\n",
            "\u001b[0;32m/content/DPAH4.py\u001b[0m in \u001b[0;36mDPAH4\u001b[0;34m(N, fm, fa, d, plo_M, plo_m, h_MM, h_mm, acceptance, verbose, seed)\u001b[0m\n\u001b[1;32m    147\u001b[0m         \u001b[0msource\u001b[0m \u001b[0;34m=\u001b[0m \u001b[0m_pick_source\u001b[0m\u001b[0;34m(\u001b[0m\u001b[0mN\u001b[0m\u001b[0;34m,\u001b[0m \u001b[0mactivity\u001b[0m\u001b[0;34m)\u001b[0m\u001b[0;34m\u001b[0m\u001b[0;34m\u001b[0m\u001b[0m\n\u001b[1;32m    148\u001b[0m         \u001b[0mns\u001b[0m \u001b[0;34m=\u001b[0m \u001b[0mnodes\u001b[0m\u001b[0;34m[\u001b[0m\u001b[0msource\u001b[0m\u001b[0;34m]\u001b[0m\u001b[0;34m\u001b[0m\u001b[0;34m\u001b[0m\u001b[0m\n\u001b[0;32m--> 149\u001b[0;31m         \u001b[0mtarget\u001b[0m \u001b[0;34m=\u001b[0m \u001b[0m_pick_target\u001b[0m\u001b[0;34m(\u001b[0m\u001b[0msource\u001b[0m\u001b[0;34m,\u001b[0m \u001b[0mN\u001b[0m\u001b[0;34m,\u001b[0m \u001b[0mlabels\u001b[0m\u001b[0;34m,\u001b[0m \u001b[0mindegrees\u001b[0m\u001b[0;34m,\u001b[0m \u001b[0moutdegrees\u001b[0m\u001b[0;34m,\u001b[0m \u001b[0mhomophily\u001b[0m\u001b[0;34m)\u001b[0m\u001b[0;34m\u001b[0m\u001b[0;34m\u001b[0m\u001b[0m\n\u001b[0m\u001b[1;32m    150\u001b[0m \u001b[0;34m\u001b[0m\u001b[0m\n\u001b[1;32m    151\u001b[0m         \u001b[0;32mif\u001b[0m \u001b[0mtarget\u001b[0m \u001b[0;32mis\u001b[0m \u001b[0;32mNone\u001b[0m\u001b[0;34m:\u001b[0m\u001b[0;34m\u001b[0m\u001b[0;34m\u001b[0m\u001b[0m\n",
            "\u001b[0;32m/content/DPAH4.py\u001b[0m in \u001b[0;36m_pick_target\u001b[0;34m(source, N, labels, indegrees, outdegrees, homophily)\u001b[0m\n\u001b[1;32m    244\u001b[0m     '''\n\u001b[1;32m    245\u001b[0m     \u001b[0mone_percent\u001b[0m \u001b[0;34m=\u001b[0m \u001b[0mN\u001b[0m \u001b[0;34m*\u001b[0m \u001b[0;36m1\u001b[0m\u001b[0;34m/\u001b[0m\u001b[0;36m100.\u001b[0m\u001b[0;34m\u001b[0m\u001b[0;34m\u001b[0m\u001b[0m\n\u001b[0;32m--> 246\u001b[0;31m     \u001b[0mtargets\u001b[0m \u001b[0;34m=\u001b[0m \u001b[0;34m[\u001b[0m\u001b[0mn\u001b[0m \u001b[0;32mfor\u001b[0m \u001b[0mn\u001b[0m \u001b[0;32min\u001b[0m \u001b[0mnp\u001b[0m\u001b[0;34m.\u001b[0m\u001b[0marange\u001b[0m\u001b[0;34m(\u001b[0m\u001b[0mN\u001b[0m\u001b[0;34m)\u001b[0m \u001b[0;32mif\u001b[0m \u001b[0mn\u001b[0m\u001b[0;34m!=\u001b[0m\u001b[0msource\u001b[0m \u001b[0;32mand\u001b[0m \u001b[0;34m(\u001b[0m\u001b[0moutdegrees\u001b[0m\u001b[0;34m[\u001b[0m\u001b[0mn\u001b[0m\u001b[0;34m]\u001b[0m\u001b[0;34m>\u001b[0m\u001b[0;36m0\u001b[0m \u001b[0;32mif\u001b[0m \u001b[0moutdegrees\u001b[0m\u001b[0;34m.\u001b[0m\u001b[0msum\u001b[0m\u001b[0;34m(\u001b[0m\u001b[0;34m)\u001b[0m\u001b[0;34m>\u001b[0m\u001b[0mone_percent\u001b[0m \u001b[0;32melse\u001b[0m \u001b[0;32mTrue\u001b[0m\u001b[0;34m)\u001b[0m\u001b[0;34m]\u001b[0m\u001b[0;34m\u001b[0m\u001b[0;34m\u001b[0m\u001b[0m\n\u001b[0m\u001b[1;32m    247\u001b[0m \u001b[0;34m\u001b[0m\u001b[0m\n\u001b[1;32m    248\u001b[0m     \u001b[0;32mif\u001b[0m \u001b[0mlen\u001b[0m\u001b[0;34m(\u001b[0m\u001b[0mtargets\u001b[0m\u001b[0;34m)\u001b[0m \u001b[0;34m==\u001b[0m \u001b[0;36m0\u001b[0m\u001b[0;34m:\u001b[0m\u001b[0;34m\u001b[0m\u001b[0;34m\u001b[0m\u001b[0m\n",
            "\u001b[0;32m/content/DPAH4.py\u001b[0m in \u001b[0;36m<listcomp>\u001b[0;34m(.0)\u001b[0m\n\u001b[1;32m    244\u001b[0m     '''\n\u001b[1;32m    245\u001b[0m     \u001b[0mone_percent\u001b[0m \u001b[0;34m=\u001b[0m \u001b[0mN\u001b[0m \u001b[0;34m*\u001b[0m \u001b[0;36m1\u001b[0m\u001b[0;34m/\u001b[0m\u001b[0;36m100.\u001b[0m\u001b[0;34m\u001b[0m\u001b[0;34m\u001b[0m\u001b[0m\n\u001b[0;32m--> 246\u001b[0;31m     \u001b[0mtargets\u001b[0m \u001b[0;34m=\u001b[0m \u001b[0;34m[\u001b[0m\u001b[0mn\u001b[0m \u001b[0;32mfor\u001b[0m \u001b[0mn\u001b[0m \u001b[0;32min\u001b[0m \u001b[0mnp\u001b[0m\u001b[0;34m.\u001b[0m\u001b[0marange\u001b[0m\u001b[0;34m(\u001b[0m\u001b[0mN\u001b[0m\u001b[0;34m)\u001b[0m \u001b[0;32mif\u001b[0m \u001b[0mn\u001b[0m\u001b[0;34m!=\u001b[0m\u001b[0msource\u001b[0m \u001b[0;32mand\u001b[0m \u001b[0;34m(\u001b[0m\u001b[0moutdegrees\u001b[0m\u001b[0;34m[\u001b[0m\u001b[0mn\u001b[0m\u001b[0;34m]\u001b[0m\u001b[0;34m>\u001b[0m\u001b[0;36m0\u001b[0m \u001b[0;32mif\u001b[0m \u001b[0moutdegrees\u001b[0m\u001b[0;34m.\u001b[0m\u001b[0msum\u001b[0m\u001b[0;34m(\u001b[0m\u001b[0;34m)\u001b[0m\u001b[0;34m>\u001b[0m\u001b[0mone_percent\u001b[0m \u001b[0;32melse\u001b[0m \u001b[0;32mTrue\u001b[0m\u001b[0;34m)\u001b[0m\u001b[0;34m]\u001b[0m\u001b[0;34m\u001b[0m\u001b[0;34m\u001b[0m\u001b[0m\n\u001b[0m\u001b[1;32m    247\u001b[0m \u001b[0;34m\u001b[0m\u001b[0m\n\u001b[1;32m    248\u001b[0m     \u001b[0;32mif\u001b[0m \u001b[0mlen\u001b[0m\u001b[0;34m(\u001b[0m\u001b[0mtargets\u001b[0m\u001b[0;34m)\u001b[0m \u001b[0;34m==\u001b[0m \u001b[0;36m0\u001b[0m\u001b[0;34m:\u001b[0m\u001b[0;34m\u001b[0m\u001b[0;34m\u001b[0m\u001b[0m\n",
            "\u001b[0;32m/usr/local/lib/python3.7/dist-packages/numpy/core/_methods.py\u001b[0m in \u001b[0;36m_sum\u001b[0;34m(a, axis, dtype, out, keepdims, initial, where)\u001b[0m\n\u001b[1;32m     46\u001b[0m def _sum(a, axis=None, dtype=None, out=None, keepdims=False,\n\u001b[1;32m     47\u001b[0m          initial=_NoValue, where=True):\n\u001b[0;32m---> 48\u001b[0;31m     \u001b[0;32mreturn\u001b[0m \u001b[0mumr_sum\u001b[0m\u001b[0;34m(\u001b[0m\u001b[0ma\u001b[0m\u001b[0;34m,\u001b[0m \u001b[0maxis\u001b[0m\u001b[0;34m,\u001b[0m \u001b[0mdtype\u001b[0m\u001b[0;34m,\u001b[0m \u001b[0mout\u001b[0m\u001b[0;34m,\u001b[0m \u001b[0mkeepdims\u001b[0m\u001b[0;34m,\u001b[0m \u001b[0minitial\u001b[0m\u001b[0;34m,\u001b[0m \u001b[0mwhere\u001b[0m\u001b[0;34m)\u001b[0m\u001b[0;34m\u001b[0m\u001b[0;34m\u001b[0m\u001b[0m\n\u001b[0m\u001b[1;32m     49\u001b[0m \u001b[0;34m\u001b[0m\u001b[0m\n\u001b[1;32m     50\u001b[0m def _prod(a, axis=None, dtype=None, out=None, keepdims=False,\n",
            "\u001b[0;31mKeyboardInterrupt\u001b[0m: "
          ]
        }
      ],
      "source": [
        "results_allies = []\n",
        "\n",
        "beta_list = [0.05, 0.1, 0.15, 0.2, 0.25, 0.3, 0.35, 0.4,\n",
        "            0.45, 0.5, 0.55, 0.6, 0.65, 0.7, 0.75, 0.8, \n",
        "            0.85, 0.9, 0.95, 1]\n",
        "\n",
        "\n",
        "for fm in tqdm(np.linspace(0.05, 0.5, 10)):\n",
        "  for fraction_allies in np.linspace(0, 0.5 - fm, 10):\n",
        "      for i in range(10):\n",
        "          g = DPAH4(\n",
        "              N=N,\n",
        "              fm=fm,\n",
        "              fa=fraction_allies, # Fraction that are allies\n",
        "              d=0.0015,\n",
        "              plo_M=3,\n",
        "              plo_m=3,\n",
        "              h_MM=h_MM,\n",
        "              h_mm=h_mm,\n",
        "              acceptance = \"maj\",\n",
        "              verbose=False,\n",
        "              seed=i)\n",
        "          \n",
        "          for beta in beta_list:\n",
        "              # Top k nodes to consider for inequity. k = N * beta\n",
        "              k = int(N * beta)\n",
        "              prop_top_k_ally, prop_top_k_minority = compute_inequity(g, k)\n",
        "              results_allies.append((fm, fraction_allies, beta, prop_top_k_ally, prop_top_k_minority))\n",
        "\n",
        "\n",
        "results_covert = []\n",
        "for fm in tqdm(np.linspace(0.05, 0.5, 10)):\n",
        "  for fraction_covert in np.linspace(0, fm, 10) :\n",
        "      for i in range(10):\n",
        "          g = DPAH4(\n",
        "              N=N,\n",
        "              fm=fm - fraction_covert,\n",
        "              fa=fraction_covert, # \"Allies\" and \"covert\" are functionally the same\n",
        "              d=0.0015,\n",
        "              plo_M=3,\n",
        "              plo_m=3,\n",
        "              h_MM=h_MM,\n",
        "              h_mm=h_mm,\n",
        "              acceptance = \"maj\",\n",
        "              verbose=False,\n",
        "              seed=i)\n",
        "        \n",
        "               \n",
        "          for beta in beta_list:\n",
        "              # Top k nodes to consider for inequity. k = N * beta\n",
        "              k = int(N * beta)\n",
        "              prop_top_k_covert, prop_top_k_minority = compute_inequity(g, k)\n",
        "              results_covert.append((fm, fraction_covert, beta, prop_top_k_covert, prop_top_k_minority))\n",
        "\n",
        "          "
      ]
    },
    {
      "cell_type": "code",
      "execution_count": null,
      "metadata": {
        "colab": {
          "base_uri": "https://localhost:8080/"
        },
        "id": "mxEnouANRCvu",
        "outputId": "857dd44a-8c18-4dc6-ae2c-e5b4e5458d79"
      },
      "outputs": [
        {
          "output_type": "stream",
          "name": "stderr",
          "text": [
            "100%|██████████| 10/10 [1:44:38<00:00, 627.80s/it]\n"
          ]
        }
      ],
      "source": [
        "results_covert = []\n",
        "for fm in tqdm(np.linspace(0.05, 0.5, 10)):\n",
        "  for fraction_covert in np.linspace(0, fm, 10) :\n",
        "      for i in range(10):\n",
        "          g = DPAH4(\n",
        "              N=N,\n",
        "              fm=fm - fraction_covert,\n",
        "              fa=fraction_covert, # \"Allies\" and \"covert\" are functionally the same\n",
        "              d=0.0015,\n",
        "              plo_M=3,\n",
        "              plo_m=3,\n",
        "              h_MM=h_MM,\n",
        "              h_mm=h_mm,\n",
        "              acceptance = \"maj\",\n",
        "              verbose=False,\n",
        "              seed=i)\n",
        "        \n",
        "               \n",
        "          for beta in beta_list:\n",
        "              # Top k nodes to consider for inequity. k = N * beta\n",
        "              k = int(N * beta)\n",
        "              prop_top_k_covert, prop_top_k_minority = compute_inequity(g, k)\n",
        "              results_covert.append((fm, fraction_covert, beta, prop_top_k_covert, prop_top_k_minority))\n"
      ]
    },
    {
      "cell_type": "code",
      "execution_count": null,
      "metadata": {
        "id": "cY6ZWl-yhvGN"
      },
      "outputs": [],
      "source": [
        "# df_results_allies = pd.DataFrame(results_allies, columns=['prop_min', 'prop_ally','beta' ,'prop_ally_top_k', 'prop_min_top_k'])\n",
        "df_results_covert = pd.DataFrame(results_covert, columns=['prop_min', 'prop_covert', 'beta', 'prop_covert_top_k', 'prop_overt_top_k'])\n",
        "df_results_covert['prop_covert_rescaled'] = df_results_covert['prop_covert'] / df_results_covert['prop_covert'].max()\n",
        "df_results_covert['prop_all_minorities_top_k'] = df_results_covert['prop_covert_top_k'] + df_results_covert['prop_overt_top_k']"
      ]
    },
    {
      "cell_type": "code",
      "execution_count": null,
      "metadata": {
        "id": "kw7byHxEhvGV"
      },
      "outputs": [],
      "source": [
        "# df_results_allies.to_csv(\"allies_sweep_per_top_k_setup1.csv\", index=False)\n",
        "df_results_covert.to_csv(\"covert_sweep_per_top_k_setup1.csv\", index=False)"
      ]
    },
    {
      "cell_type": "markdown",
      "metadata": {
        "id": "rfuS58ZcgTHm"
      },
      "source": [
        "Now, sweep over allies and covert for the setting where majorities accept allies/coverts, but allies/coverts also accept each other. **This is our scenario 2.**"
      ]
    },
    {
      "cell_type": "code",
      "execution_count": null,
      "metadata": {
        "colab": {
          "base_uri": "https://localhost:8080/"
        },
        "id": "9rWp71B2gSkW",
        "outputId": "dc83a580-71e7-425c-da69-46b8c99e055a"
      },
      "outputs": [
        {
          "name": "stderr",
          "output_type": "stream",
          "text": [
            "100%|██████████| 10/10 [08:14<00:00, 49.47s/it]\n",
            "100%|██████████| 10/10 [08:14<00:00, 49.50s/it]\n"
          ]
        }
      ],
      "source": [
        "results_allies = []\n",
        "\n",
        "beta_list = [0.05, 0.1, 0.15, 0.2, 0.25, 0.3, 0.35, 0.4,\n",
        "            0.45, 0.5, 0.55, 0.6, 0.65, 0.7, 0.75, 0.8, \n",
        "            0.85, 0.9, 0.95, 1]\n",
        "\n",
        "\n",
        "for fm in tqdm(np.linspace(0.05, 0.5, 10)):\n",
        "  for fraction_allies in np.linspace(0, 0.5 - fm, 10):\n",
        "      for i in range(10):\n",
        "          g = DPAH4(\n",
        "              N=N,\n",
        "              fm=fm,\n",
        "              fa=fraction_allies, # Fraction that are allies\n",
        "              d=0.0015,\n",
        "              plo_M=3,\n",
        "              plo_m=3,\n",
        "              h_MM=h_MM,\n",
        "              h_mm=h_mm,\n",
        "              acceptance = \"maj/al\",\n",
        "              verbose=False,\n",
        "              seed=i)\n",
        "          \n",
        "          for beta in beta_list:\n",
        "              # Top k nodes to consider for inequity. k = N * beta\n",
        "              k = int(N * beta)\n",
        "              prop_top_k_ally, prop_top_k_minority = compute_inequity(g, k)\n",
        "              results_allies.append((fm, fraction_allies, beta, prop_top_k_ally, prop_top_k_minority))\n",
        "\n",
        "\n",
        "results_covert = []\n",
        "\n",
        "for fm in tqdm(np.linspace(0.05, 0.5, 10)):\n",
        "  for fraction_covert in np.linspace(0, fm, 10):\n",
        "      for i in range(10):\n",
        "          g = DPAH4(\n",
        "              N=N,\n",
        "              fm=fm - fraction_covert,\n",
        "              fa=fraction_covert, # \"Allies\" and \"covert\" are functionally the same\n",
        "              d=0.0015,\n",
        "              plo_M=3,\n",
        "              plo_m=3,\n",
        "              h_MM=h_MM,\n",
        "              h_mm=h_mm,\n",
        "              acceptance = \"maj/al\",\n",
        "              verbose=False,\n",
        "              seed=i)\n",
        "          \n",
        "                \n",
        "          for beta in beta_list:\n",
        "              # Top k nodes to consider for inequity. k = N * beta\n",
        "              k = int(N * beta)\n",
        "              prop_top_k_covert, prop_top_k_minority = compute_inequity(g, k)\n",
        "              results_covert.append((fm, fraction_covert, beta, prop_top_k_covert, prop_top_k_minority))\n",
        "\n",
        "         "
      ]
    },
    {
      "cell_type": "code",
      "execution_count": null,
      "metadata": {
        "id": "ssDK-vn-gSox"
      },
      "outputs": [],
      "source": [
        "df_results_allies = pd.DataFrame(results_allies, columns=['prop_ally','beta' ,'prop_ally_top_k', 'prop_min_top_k'])\n",
        "df_results_covert = pd.DataFrame(results_covert, columns=['prop_covert', 'beta', 'prop_covert_top_k', 'prop_overt_top_k'])\n",
        "df_results_covert['prop_covert_rescaled'] = df_results_covert['prop_covert'] / df_results_covert['prop_covert'].max()\n",
        "df_results_covert['prop_all_minorities_top_k'] = df_results_covert['prop_covert_top_k'] + df_results_covert['prop_overt_top_k']"
      ]
    },
    {
      "cell_type": "code",
      "execution_count": null,
      "metadata": {
        "id": "rs82mdPzeltS"
      },
      "outputs": [],
      "source": [
        "df_results_allies.to_csv(\"allies_sweep_per_top_k_setup2.csv\", index=False)\n",
        "df_results_covert.to_csv(\"covert_sweep_per_top_k_setup2.csv\", index=False)"
      ]
    },
    {
      "cell_type": "markdown",
      "metadata": {
        "id": "7CwX3MkDhUu_"
      },
      "source": [
        "Finally, sweep over the combinations where everyone accepts allies/coverts. **This is our scenario 3.**"
      ]
    },
    {
      "cell_type": "code",
      "execution_count": null,
      "metadata": {
        "colab": {
          "base_uri": "https://localhost:8080/"
        },
        "id": "epQhkNo5hUOG",
        "outputId": "b1e826fa-b49e-4da2-be69-449aae2a6298"
      },
      "outputs": [
        {
          "name": "stderr",
          "output_type": "stream",
          "text": [
            "100%|██████████| 10/10 [08:16<00:00, 49.61s/it]\n",
            "100%|██████████| 10/10 [08:16<00:00, 49.66s/it]\n"
          ]
        }
      ],
      "source": [
        "results_allies = []\n",
        "\n",
        "beta_list = [0.05, 0.1, 0.15, 0.2, 0.25, 0.3, 0.35, 0.4,\n",
        "            0.45, 0.5, 0.55, 0.6, 0.65, 0.7, 0.75, 0.8, \n",
        "            0.85, 0.9, 0.95, 1]\n",
        "\n",
        "\n",
        "for fm in tqdm(np.linspace(0.05, 0.5, 10)):\n",
        "  for fraction_allies in np.linspace(0, 0.5 - fm, 10):\n",
        "      for i in range(10):\n",
        "          g = DPAH4(\n",
        "              N=N,\n",
        "              fm=fm,\n",
        "              fa=fraction_allies, # Fraction that are allies\n",
        "              d=0.0015,\n",
        "              plo_M=3,\n",
        "              plo_m=3,\n",
        "              h_MM=h_MM,\n",
        "              h_mm=h_mm,\n",
        "              acceptance = \"all\",\n",
        "              verbose=False,\n",
        "              seed=i)\n",
        "          \n",
        "          for beta in beta_list:\n",
        "              # Top k nodes to consider for inequity. k = N * beta\n",
        "              k = int(N * beta)\n",
        "              prop_top_k_ally, prop_top_k_minority = compute_inequity(g, k)\n",
        "              results_allies.append((fm, fraction_allies, beta, prop_top_k_ally, prop_top_k_minority))\n",
        "\n",
        "\n",
        "results_covert = []\n",
        "\n",
        "for fm in tqdm(np.linspace(0.05, 0.5, 10)):\n",
        "  for fraction_covert in np.linspace(0, fm, 10):\n",
        "      for i in range(10):\n",
        "          g = DPAH4(\n",
        "              N=N,\n",
        "              fm=fm - fraction_covert,\n",
        "              fa=fraction_covert, # \"Allies\" and \"covert\" are functionally the same\n",
        "              d=0.0015,\n",
        "              plo_M=3,\n",
        "              plo_m=3,\n",
        "              h_MM=h_MM,\n",
        "              h_mm=h_mm,\n",
        "              acceptance = \"all\",\n",
        "              verbose=False,\n",
        "              seed=i)\n",
        "          \n",
        "                \n",
        "          for beta in beta_list:\n",
        "              # Top k nodes to consider for inequity. k = N * beta\n",
        "              k = int(N * beta)\n",
        "              prop_top_k_covert, prop_top_k_minority = compute_inequity(g, k)\n",
        "              results_covert.append((fm, fraction_covert, beta, prop_top_k_covert, prop_top_k_minority))\n",
        "\n",
        "         "
      ]
    },
    {
      "cell_type": "code",
      "execution_count": null,
      "metadata": {
        "id": "TGUDiJUKhcUY"
      },
      "outputs": [],
      "source": [
        "df_results_allies = pd.DataFrame(results_allies, columns=['prop_ally','beta' ,'prop_ally_top_k', 'prop_min_top_k'])\n",
        "df_results_covert = pd.DataFrame(results_covert, columns=['prop_covert', 'beta', 'prop_covert_top_k', 'prop_overt_top_k'])\n",
        "df_results_covert['prop_covert_rescaled'] = df_results_covert['prop_covert'] / df_results_covert['prop_covert'].max()\n",
        "df_results_covert['prop_all_minorities_top_k'] = df_results_covert['prop_covert_top_k'] + df_results_covert['prop_overt_top_k']"
      ]
    },
    {
      "cell_type": "code",
      "execution_count": null,
      "metadata": {
        "id": "h-QwFuwfhe2_"
      },
      "outputs": [],
      "source": [
        "df_results_allies.to_csv(\"allies_sweep_per_top_k_setup3.csv\", index=False)\n",
        "df_results_covert.to_csv(\"covert_sweep_per_top_k_setup3.csv\", index=False)"
      ]
    }
  ],
  "metadata": {
    "colab": {
      "collapsed_sections": [],
      "machine_shape": "hm",
      "provenance": []
    },
    "kernelspec": {
      "display_name": "Python 3 (ipykernel)",
      "language": "python",
      "name": "python3"
    },
    "language_info": {
      "codemirror_mode": {
        "name": "ipython",
        "version": 3
      },
      "file_extension": ".py",
      "mimetype": "text/x-python",
      "name": "python",
      "nbconvert_exporter": "python",
      "pygments_lexer": "ipython3",
      "version": "3.7.13"
    }
  },
  "nbformat": 4,
  "nbformat_minor": 0
}