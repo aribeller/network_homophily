{
 "cells": [
  {
   "cell_type": "markdown",
   "id": "c2d38445",
   "metadata": {},
   "source": [
    "Analysing the data from Gui's simulations - extracting the relevant info"
   ]
  },
  {
   "cell_type": "markdown",
   "id": "d88212ce",
   "metadata": {},
   "source": [
    "Set the path"
   ]
  },
  {
   "cell_type": "code",
   "execution_count": 83,
   "id": "4a900b23",
   "metadata": {},
   "outputs": [],
   "source": [
    "import time\n",
    "\n",
    "import os\n",
    "\n",
    "import numpy as np\n",
    "import networkx as nx\n",
    "import matplotlib.pyplot as plt\n",
    "import seaborn as sns\n",
    "import pandas as pd\n",
    "import networkx as nx\n",
    "import re\n",
    "from tqdm import tqdm"
   ]
  },
  {
   "cell_type": "markdown",
   "id": "0baa5206",
   "metadata": {},
   "source": [
    "Inequity function (fix the counting part, we need strings rather than integers):"
   ]
  },
  {
   "cell_type": "code",
   "execution_count": 32,
   "id": "2912ffef",
   "metadata": {},
   "outputs": [],
   "source": [
    "def compute_inequity(g, k):\n",
    "    \"\"\"Compute the proportion of allies and minorities in the top k ranks of g\"\"\"\n",
    "    node_pageranks = nx.pagerank(g)\n",
    "    node_pageranks_sorted = sorted(node_pageranks.items(), key=lambda x: x[1], reverse=True)\n",
    "    top_k = node_pageranks_sorted[:k]\n",
    "    \n",
    "    num_top_k_allies = 0\n",
    "    num_top_k_minority = 0\n",
    "    \n",
    "    for (node_id, _) in top_k:\n",
    "        if g.nodes[node_id]['m'] == \"1\": # is an ally:\n",
    "            num_top_k_allies += 1\n",
    "        elif g.nodes[node_id]['m'] == \"2\": # is minority\n",
    "            num_top_k_minority += 1\n",
    "    \n",
    "    return num_top_k_allies / k, num_top_k_minority / k"
   ]
  },
  {
   "cell_type": "markdown",
   "id": "f428a4db",
   "metadata": {},
   "source": [
    "Get all the files to read:"
   ]
  },
  {
   "cell_type": "code",
   "execution_count": 74,
   "id": "2d5065d2",
   "metadata": {},
   "outputs": [],
   "source": [
    "dir_path = r'E:\\\\Projects\\\\Homophily\\\\gui_results\\\\results'\n",
    "\n",
    "# list to store files\n",
    "network_paths = []\n",
    "\n",
    "# Iterate directory\n",
    "for path in os.listdir(dir_path):\n",
    "    # check if current path is a file\n",
    "    if os.path.isfile(os.path.join(dir_path, path)):\n",
    "        if \"gml\" in path:\n",
    "            network_paths.append(path)"
   ]
  },
  {
   "cell_type": "code",
   "execution_count": 78,
   "id": "c6c12f3e",
   "metadata": {},
   "outputs": [],
   "source": [
    "os.chdir(dir_path)"
   ]
  },
  {
   "cell_type": "markdown",
   "id": "4461370e",
   "metadata": {},
   "source": [
    "Extract the data we need and compute the inequity:"
   ]
  },
  {
   "cell_type": "code",
   "execution_count": 96,
   "id": "a49b3b4c",
   "metadata": {},
   "outputs": [
    {
     "name": "stderr",
     "output_type": "stream",
     "text": [
      "100%|████████████████████████████████████████████████████████████████████████████| 3810/3810 [3:59:38<00:00,  3.77s/it]\n"
     ]
    }
   ],
   "source": [
    "# We want different beta values:\n",
    "beta_list = [0.05, 0.1, 0.15, 0.2, 0.25, 0.3, 0.35, 0.4,\n",
    "            0.45, 0.5, 0.55, 0.6, 0.65, 0.7, 0.75, 0.8, \n",
    "            0.85, 0.9, 0.95, 1]\n",
    "\n",
    "# Initiate the results list:\n",
    "results = []\n",
    "\n",
    "# For each file:\n",
    "for path in tqdm(network_paths):\n",
    "    # read in the network\n",
    "    g = nx.read_gml(path)\n",
    "    \n",
    "    # getting the parameters we need from the path\n",
    "    N = int(re.findall(r\"\\d+\", path.split(\"_\")[2])[0])\n",
    "    fm = re.findall(\"\\d+\\.\\d+\", path.split(\"_\")[3])[0]\n",
    "    fa =  re.findall(\"\\d+\\.\\d+\", path.split(\"_\")[4])[0]\n",
    "    i =  re.findall(r\"\\d+\", path.split(\"_\")[5])[0]\n",
    "    \n",
    "    # computing the inequity for different values of beta\n",
    "    for beta in beta_list:\n",
    "        k = int(N * beta)\n",
    "        prop_top_k_ally, prop_top_k_minority = compute_inequity(g, k)\n",
    "        results.append((fm, fa, beta, prop_top_k_ally, prop_top_k_minority, i))"
   ]
  },
  {
   "cell_type": "code",
   "execution_count": 99,
   "id": "c7c67283",
   "metadata": {},
   "outputs": [
    {
     "data": {
      "text/html": [
       "<div>\n",
       "<style scoped>\n",
       "    .dataframe tbody tr th:only-of-type {\n",
       "        vertical-align: middle;\n",
       "    }\n",
       "\n",
       "    .dataframe tbody tr th {\n",
       "        vertical-align: top;\n",
       "    }\n",
       "\n",
       "    .dataframe thead th {\n",
       "        text-align: right;\n",
       "    }\n",
       "</style>\n",
       "<table border=\"1\" class=\"dataframe\">\n",
       "  <thead>\n",
       "    <tr style=\"text-align: right;\">\n",
       "      <th></th>\n",
       "      <th>prop_min</th>\n",
       "      <th>prop_ally</th>\n",
       "      <th>beta</th>\n",
       "      <th>prop_ally_top_k</th>\n",
       "      <th>prop_min_top_k</th>\n",
       "      <th>iter</th>\n",
       "    </tr>\n",
       "  </thead>\n",
       "  <tbody>\n",
       "    <tr>\n",
       "      <th>0</th>\n",
       "      <td>0.216</td>\n",
       "      <td>0.000</td>\n",
       "      <td>0.05</td>\n",
       "      <td>0.000000</td>\n",
       "      <td>0.040000</td>\n",
       "      <td>1</td>\n",
       "    </tr>\n",
       "    <tr>\n",
       "      <th>1</th>\n",
       "      <td>0.216</td>\n",
       "      <td>0.000</td>\n",
       "      <td>0.10</td>\n",
       "      <td>0.000000</td>\n",
       "      <td>0.090000</td>\n",
       "      <td>1</td>\n",
       "    </tr>\n",
       "    <tr>\n",
       "      <th>2</th>\n",
       "      <td>0.216</td>\n",
       "      <td>0.000</td>\n",
       "      <td>0.15</td>\n",
       "      <td>0.000000</td>\n",
       "      <td>0.086667</td>\n",
       "      <td>1</td>\n",
       "    </tr>\n",
       "    <tr>\n",
       "      <th>3</th>\n",
       "      <td>0.216</td>\n",
       "      <td>0.000</td>\n",
       "      <td>0.20</td>\n",
       "      <td>0.000000</td>\n",
       "      <td>0.110000</td>\n",
       "      <td>1</td>\n",
       "    </tr>\n",
       "    <tr>\n",
       "      <th>4</th>\n",
       "      <td>0.216</td>\n",
       "      <td>0.000</td>\n",
       "      <td>0.25</td>\n",
       "      <td>0.000000</td>\n",
       "      <td>0.120000</td>\n",
       "      <td>1</td>\n",
       "    </tr>\n",
       "    <tr>\n",
       "      <th>...</th>\n",
       "      <td>...</td>\n",
       "      <td>...</td>\n",
       "      <td>...</td>\n",
       "      <td>...</td>\n",
       "      <td>...</td>\n",
       "      <td>...</td>\n",
       "    </tr>\n",
       "    <tr>\n",
       "      <th>76195</th>\n",
       "      <td>0.071</td>\n",
       "      <td>0.258</td>\n",
       "      <td>0.80</td>\n",
       "      <td>0.171250</td>\n",
       "      <td>0.053750</td>\n",
       "      <td>4</td>\n",
       "    </tr>\n",
       "    <tr>\n",
       "      <th>76196</th>\n",
       "      <td>0.071</td>\n",
       "      <td>0.258</td>\n",
       "      <td>0.85</td>\n",
       "      <td>0.161176</td>\n",
       "      <td>0.050588</td>\n",
       "      <td>4</td>\n",
       "    </tr>\n",
       "    <tr>\n",
       "      <th>76197</th>\n",
       "      <td>0.071</td>\n",
       "      <td>0.258</td>\n",
       "      <td>0.90</td>\n",
       "      <td>0.206667</td>\n",
       "      <td>0.047778</td>\n",
       "      <td>4</td>\n",
       "    </tr>\n",
       "    <tr>\n",
       "      <th>76198</th>\n",
       "      <td>0.071</td>\n",
       "      <td>0.258</td>\n",
       "      <td>0.95</td>\n",
       "      <td>0.248421</td>\n",
       "      <td>0.045263</td>\n",
       "      <td>4</td>\n",
       "    </tr>\n",
       "    <tr>\n",
       "      <th>76199</th>\n",
       "      <td>0.071</td>\n",
       "      <td>0.258</td>\n",
       "      <td>1.00</td>\n",
       "      <td>0.258000</td>\n",
       "      <td>0.071000</td>\n",
       "      <td>4</td>\n",
       "    </tr>\n",
       "  </tbody>\n",
       "</table>\n",
       "<p>76200 rows × 6 columns</p>\n",
       "</div>"
      ],
      "text/plain": [
       "      prop_min prop_ally  beta  prop_ally_top_k  prop_min_top_k iter\n",
       "0        0.216     0.000  0.05         0.000000        0.040000    1\n",
       "1        0.216     0.000  0.10         0.000000        0.090000    1\n",
       "2        0.216     0.000  0.15         0.000000        0.086667    1\n",
       "3        0.216     0.000  0.20         0.000000        0.110000    1\n",
       "4        0.216     0.000  0.25         0.000000        0.120000    1\n",
       "...        ...       ...   ...              ...             ...  ...\n",
       "76195    0.071     0.258  0.80         0.171250        0.053750    4\n",
       "76196    0.071     0.258  0.85         0.161176        0.050588    4\n",
       "76197    0.071     0.258  0.90         0.206667        0.047778    4\n",
       "76198    0.071     0.258  0.95         0.248421        0.045263    4\n",
       "76199    0.071     0.258  1.00         0.258000        0.071000    4\n",
       "\n",
       "[76200 rows x 6 columns]"
      ]
     },
     "execution_count": 99,
     "metadata": {},
     "output_type": "execute_result"
    }
   ],
   "source": [
    "results_df = pd.DataFrame(results, columns=['prop_min', 'prop_ally','beta' ,'prop_ally_top_k', 'prop_min_top_k', \"iter\"])\n",
    "results_df"
   ]
  },
  {
   "cell_type": "code",
   "execution_count": 100,
   "id": "c8d4400b",
   "metadata": {},
   "outputs": [],
   "source": [
    "results_df.to_csv(\"extracted_ally_sweep_per_fm_top_k_new.csv\", index=False)"
   ]
  }
 ],
 "metadata": {
  "kernelspec": {
   "display_name": "Python 3 (ipykernel)",
   "language": "python",
   "name": "python3"
  },
  "language_info": {
   "codemirror_mode": {
    "name": "ipython",
    "version": 3
   },
   "file_extension": ".py",
   "mimetype": "text/x-python",
   "name": "python",
   "nbconvert_exporter": "python",
   "pygments_lexer": "ipython3",
   "version": "3.7.9"
  }
 },
 "nbformat": 4,
 "nbformat_minor": 5
}
