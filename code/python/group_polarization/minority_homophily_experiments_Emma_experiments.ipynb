{
 "cells": [
  {
   "cell_type": "code",
   "execution_count": 54,
   "id": "15048695",
   "metadata": {},
   "outputs": [
    {
     "name": "stdout",
     "output_type": "stream",
     "text": [
      "The autoreload extension is already loaded. To reload it, use:\n",
      "  %reload_ext autoreload\n"
     ]
    }
   ],
   "source": [
    "%load_ext autoreload\n",
    "%autoreload 2\n",
    "%matplotlib inline\n",
    "\n",
    "import sys\n",
    "sys.path.append(\"..\")\n",
    "\n",
    "import networkx as nx\n",
    "import matplotlib.pyplot as plt\n",
    "import seaborn as sns\n",
    "import time\n",
    "import numpy as np\n",
    "from scipy import sparse\n",
    "import pandas as pd\n",
    "\n",
    "import paper.eval as eval\n",
    "from paper.DPAH_multiple_minorities import DPAH"
   ]
  },
  {
   "cell_type": "markdown",
   "id": "f3ad2f87",
   "metadata": {},
   "source": [
    "## model parameters"
   ]
  },
  {
   "cell_type": "code",
   "execution_count": 55,
   "id": "8d3988fb",
   "metadata": {},
   "outputs": [],
   "source": [
    "# Number of nodes\n",
    "N = 100\n",
    "\n",
    "# max edge density\n",
    "d = 0.0015\n",
    "\n",
    "# Top beta% of rankings to consider for inequity\n",
    "beta = 0.1\n",
    "\n",
    "# Top k nodes to consider for inequity. k = N * beta\n",
    "k = int(N * beta)\n",
    "\n",
    "# Minority fractions\n",
    "fm1 = 0.1\n",
    "fm2 = 0.1\n",
    "\n",
    "# Activity distribution parameters\n",
    "plo_M = 3\n",
    "plo_m1 = 3\n",
    "plo_m2 = 3\n",
    "\n",
    "# homophily\n",
    "h_MM = 1/3\n",
    "h_Mm = (1.0 - h_MM)/2.0\n",
    "h_within = 0.7\n",
    "h_between = 0.1\n",
    "h_mM = (1.0 - h_within - h_between)\n",
    "\n",
    "h = [[h_MM, h_Mm, h_Mm],\n",
    "    [h_mM, h_within, h_between],\n",
    "    [h_mM, h_between, h_within]]"
   ]
  },
  {
   "cell_type": "code",
   "execution_count": 56,
   "id": "f3bfde0c-aa44-4cda-b797-9a8756331c88",
   "metadata": {},
   "outputs": [],
   "source": [
    "def compute_inequity(g, k):\n",
    "    \"\"\"Compute the proportion of minorities in the top k ranks of g\"\"\"\n",
    "    node_pageranks = nx.pagerank(g)\n",
    "    node_pageranks_sorted = sorted(node_pageranks.items(), key=lambda x: x[1], reverse=True)\n",
    "    top_k = node_pageranks_sorted[:k]\n",
    "    num_top_k_minority = np.count_nonzero([g.nodes[node_id]['m'] for (node_id, _) in top_k])\n",
    "    \n",
    "    return num_top_k_minority / k  "
   ]
  },
  {
   "cell_type": "markdown",
   "id": "54152165",
   "metadata": {},
   "source": [
    "## experiment parameters"
   ]
  },
  {
   "cell_type": "code",
   "execution_count": 57,
   "id": "423780e7",
   "metadata": {},
   "outputs": [],
   "source": [
    "runs = 1"
   ]
  },
  {
   "cell_type": "markdown",
   "id": "259f84ac",
   "metadata": {},
   "source": [
    "## experiments"
   ]
  },
  {
   "cell_type": "code",
   "execution_count": 58,
   "id": "a90ba9ff",
   "metadata": {},
   "outputs": [
    {
     "name": "stdout",
     "output_type": "stream",
     "text": [
      "<class 'scipy.sparse._arrays.csr_array'>\n",
      "finished 1 run(s) with 100 nodes each in 0.01 seconds\n"
     ]
    }
   ],
   "source": [
    "#graphs = []\n",
    "start_time = time.time()\n",
    "results =[]\n",
    "\n",
    "t = 1\n",
    "\n",
    "for i in range(runs):\n",
    "    g = DPAH(N=N, d=d, fm1=fm1, fm2=fm2, plo_M=plo_M, plo_m1=plo_m1, plo_m2=plo_m2, h=h, verbose=False, seed=i)\n",
    "    node_identities = [[node_id,g.nodes[node_id]['m']] for node_id in list(g.nodes())]\n",
    "    df = pd.DataFrame(node_identities,columns=['node_id','group'])\n",
    "    df.to_csv(f\"networks/nodelist_{str(t)}_run_{str(i)}.csv\",index=False)\n",
    "    adj = nx.to_scipy_sparse_array(g,nodelist = list(g.nodes()))\n",
    "    sparse.save_npz(f\"networks/adj_matrix_type_{str(t)}_run_{str(i)}.npz\", adj)\n",
    "    \n",
    "end_time = time.time()\n",
    "print(\"finished {} run(s) with {} nodes each in {} seconds\".format(runs, N, str(round((end_time - start_time), 2))))"
   ]
  },
  {
   "cell_type": "code",
   "execution_count": 72,
   "id": "cd5af9b2-989f-4da9-b46f-ff40ad6b4f38",
   "metadata": {},
   "outputs": [],
   "source": [
    "#TO READ\n",
    "adj = sparse.load_npz(f\"networks/adj_matrix_type_{str(t)}_run_{str(i)}.npz\")\n",
    "adj = adj.toarray()"
   ]
  },
  {
   "cell_type": "code",
   "execution_count": 73,
   "id": "7b300a42-f027-4838-af38-06dbe3724bff",
   "metadata": {},
   "outputs": [
    {
     "data": {
      "text/plain": [
       "array([[0, 0, 0, ..., 0, 0, 0],\n",
       "       [0, 0, 0, ..., 0, 0, 0],\n",
       "       [0, 0, 0, ..., 0, 0, 0],\n",
       "       ...,\n",
       "       [0, 0, 0, ..., 0, 0, 0],\n",
       "       [0, 0, 0, ..., 0, 0, 0],\n",
       "       [0, 0, 0, ..., 0, 0, 0]])"
      ]
     },
     "execution_count": 73,
     "metadata": {},
     "output_type": "execute_result"
    }
   ],
   "source": [
    "#TO CREATE EDGE LIST\n",
    "\n",
    "adj"
   ]
  },
  {
   "cell_type": "markdown",
   "id": "a5c3b074-85ff-444d-9d15-a34f2361fde2",
   "metadata": {},
   "source": [
    "### Experiment 4"
   ]
  },
  {
   "cell_type": "code",
   "execution_count": 13,
   "id": "7eb7f2b2-a5de-4b49-9341-2a01d26b483c",
   "metadata": {},
   "outputs": [
    {
     "data": {
      "image/png": "[encoded data removed]",
      "text/plain": [
       "<Figure size 360x216 with 1 Axes>"
      ]
     },
     "metadata": {
      "needs_background": "light"
     },
     "output_type": "display_data"
    }
   ],
   "source": [
    "fig =  plt.subplots(1, figsize=(5,3))\n",
    "plt.plot(size_values, prop_top, label ='proportion of minority in top 20')\n",
    "plt.fill_between(size_values,[a-b for a,b in zip(prop_top,prop_top_std)],[a+b for a,b in zip(prop_top,prop_top_std)],alpha=0.4)\n",
    "\n",
    "\n",
    "plt.plot(size_values,size_values*2,'r',label = 'Real proportion')\n",
    "#plt.xlim(-1,28)\n",
    "plt.ylim(0,1)\n",
    "plt.xlabel('Minority size',fontsize=13)\n",
    "plt.ylabel('Proportion of minority',fontsize=13)\n",
    "\n",
    "plt.title('Experiment whatever',fontsize=14)\n",
    "plt.legend()\n",
    "plt.tight_layout()\n",
    "#plt.savefig('../../figures/timeline_temporary_track_max.png',dpi=200)"
   ]
  },
  {
   "cell_type": "markdown",
   "id": "012a180a-b654-4b20-b217-31dd7b385abc",
   "metadata": {
    "tags": []
   },
   "source": [
    "### Experiment3"
   ]
  },
  {
   "cell_type": "code",
   "execution_count": 110,
   "id": "9bdeb5df-c2c5-4df9-9ec1-82b0482e0b49",
   "metadata": {},
   "outputs": [
    {
     "data": {
      "image/png": "[encoded data removed]",
      "text/plain": [
       "<Figure size 360x216 with 1 Axes>"
      ]
     },
     "metadata": {
      "needs_background": "light"
     },
     "output_type": "display_data"
    }
   ],
   "source": [
    "fig =  plt.subplots(1, figsize=(5,3))\n",
    "plt.plot(h_MM_values, prop_top, label ='proportion of minority in top 20')\n",
    "plt.fill_between(h_MM_values,[a-b for a,b in zip(prop_top,prop_top_std)],[a+b for a,b in zip(prop_top,prop_top_std)],alpha=0.4)\n",
    "\n",
    "\n",
    "plt.plot(h_MM_values,(fm1+fm2)*np.ones(10),'r',label = 'Real proportion')\n",
    "#plt.xlim(-1,28)\n",
    "plt.ylim(0,1)\n",
    "plt.xlabel('h_MM (decrease of hMm)',fontsize=13)\n",
    "plt.ylabel('Proportion of minority',fontsize=13)\n",
    "\n",
    "plt.title('Experiment whatever',fontsize=14)\n",
    "plt.legend()\n",
    "plt.tight_layout()\n",
    "#plt.savefig('../../figures/timeline_temporary_track_max.png',dpi=200)"
   ]
  },
  {
   "cell_type": "markdown",
   "id": "c0b0a854-de24-45a6-80b6-e41f2160e9c9",
   "metadata": {
    "tags": []
   },
   "source": [
    "### Experiment2"
   ]
  },
  {
   "cell_type": "code",
   "execution_count": 14,
   "id": "344eefa8-2786-4c6a-ab20-59316877ec78",
   "metadata": {},
   "outputs": [
    {
     "ename": "NameError",
     "evalue": "name 'h_between_values' is not defined",
     "output_type": "error",
     "traceback": [
      "\u001b[0;31m---------------------------------------------------------------------------\u001b[0m",
      "\u001b[0;31mNameError\u001b[0m                                 Traceback (most recent call last)",
      "Input \u001b[0;32mIn [14]\u001b[0m, in \u001b[0;36m<cell line: 2>\u001b[0;34m()\u001b[0m\n\u001b[1;32m      1\u001b[0m fig \u001b[38;5;241m=\u001b[39m  plt\u001b[38;5;241m.\u001b[39msubplots(\u001b[38;5;241m1\u001b[39m, figsize\u001b[38;5;241m=\u001b[39m(\u001b[38;5;241m5\u001b[39m,\u001b[38;5;241m3\u001b[39m))\n\u001b[0;32m----> 2\u001b[0m plt\u001b[38;5;241m.\u001b[39mplot(\u001b[43mh_between_values\u001b[49m, prop_top, label \u001b[38;5;241m=\u001b[39m\u001b[38;5;124m'\u001b[39m\u001b[38;5;124mproportion of minority in top 20\u001b[39m\u001b[38;5;124m'\u001b[39m)\n\u001b[1;32m      3\u001b[0m plt\u001b[38;5;241m.\u001b[39mfill_between(h_between_values,[a\u001b[38;5;241m-\u001b[39mb \u001b[38;5;28;01mfor\u001b[39;00m a,b \u001b[38;5;129;01min\u001b[39;00m \u001b[38;5;28mzip\u001b[39m(prop_top,prop_top_std)],[a\u001b[38;5;241m+\u001b[39mb \u001b[38;5;28;01mfor\u001b[39;00m a,b \u001b[38;5;129;01min\u001b[39;00m \u001b[38;5;28mzip\u001b[39m(prop_top,prop_top_std)],alpha\u001b[38;5;241m=\u001b[39m\u001b[38;5;241m0.4\u001b[39m)\n\u001b[1;32m      6\u001b[0m plt\u001b[38;5;241m.\u001b[39mplot(h_between_values,(fm1\u001b[38;5;241m+\u001b[39mfm2)\u001b[38;5;241m*\u001b[39mnp\u001b[38;5;241m.\u001b[39mones(\u001b[38;5;241m10\u001b[39m),\u001b[38;5;124m'\u001b[39m\u001b[38;5;124mr\u001b[39m\u001b[38;5;124m'\u001b[39m,label \u001b[38;5;241m=\u001b[39m \u001b[38;5;124m'\u001b[39m\u001b[38;5;124mReal proportion\u001b[39m\u001b[38;5;124m'\u001b[39m)\n",
      "\u001b[0;31mNameError\u001b[0m: name 'h_between_values' is not defined"
     ]
    },
    {
     "data": {
      "image/png": "[encoded data removed]",
      "text/plain": [
       "<Figure size 360x216 with 1 Axes>"
      ]
     },
     "metadata": {
      "needs_background": "light"
     },
     "output_type": "display_data"
    }
   ],
   "source": [
    "fig =  plt.subplots(1, figsize=(5,3))\n",
    "plt.plot(h_between_values, prop_top, label ='proportion of minority in top 20')\n",
    "plt.fill_between(h_between_values,[a-b for a,b in zip(prop_top,prop_top_std)],[a+b for a,b in zip(prop_top,prop_top_std)],alpha=0.4)\n",
    "\n",
    "\n",
    "plt.plot(h_between_values,(fm1+fm2)*np.ones(10),'r',label = 'Real proportion')\n",
    "#plt.xlim(-1,28)\n",
    "plt.ylim(0.15,0.4)\n",
    "plt.xlabel('h_between (decrease of hmM)',fontsize=13)\n",
    "plt.ylabel('Proportion of minority',fontsize=13)\n",
    "\n",
    "plt.title('Experiment whatever',fontsize=14)\n",
    "plt.legend()\n",
    "plt.tight_layout()\n",
    "plt.savefig('between.png',dpi=200)"
   ]
  },
  {
   "cell_type": "markdown",
   "id": "136b4863-f6c8-42ab-aa2e-79f51e8949f5",
   "metadata": {
    "tags": []
   },
   "source": [
    "### Experiment1"
   ]
  },
  {
   "cell_type": "code",
   "execution_count": 99,
   "id": "fe76ba88-4eea-4f01-8cc4-32423d7a8097",
   "metadata": {},
   "outputs": [
    {
     "data": {
      "image/png": "[encoded data removed]",
      "text/plain": [
       "<Figure size 360x216 with 1 Axes>"
      ]
     },
     "metadata": {
      "needs_background": "light"
     },
     "output_type": "display_data"
    }
   ],
   "source": [
    "fig =  plt.subplots(1, figsize=(5,3))\n",
    "plt.plot(h_within_values, prop_top, label ='proportion of minority in top 20')\n",
    "plt.fill_between(h_within_values,[a-b for a,b in zip(prop_top,prop_top_std)],[a+b for a,b in zip(prop_top,prop_top_std)],alpha=0.4)\n",
    "\n",
    "\n",
    "plt.plot(h_within_values,(fm1+fm2)*np.ones(10),'r',label = 'Real proportion')\n",
    "#plt.xlim(-1,28)\n",
    "plt.ylim(0.1,0.35)\n",
    "plt.xlabel('h_within (decrease of hmM)',fontsize=13)\n",
    "plt.ylabel('Proportion of minority',fontsize=13)\n",
    "\n",
    "plt.title('Experiment whatever',fontsize=14)\n",
    "plt.legend()\n",
    "plt.tight_layout()\n",
    "#plt.savefig('../../figures/timeline_temporary_track_max.png',dpi=200)"
   ]
  },
  {
   "cell_type": "markdown",
   "id": "64c0b726",
   "metadata": {},
   "source": [
    "## analysis"
   ]
  },
  {
   "cell_type": "code",
   "execution_count": 7,
   "id": "b50f3f0d",
   "metadata": {},
   "outputs": [],
   "source": [
    "def draw_graph(g):\n",
    "    maj_nodelist = []\n",
    "    min1_nodelist = []\n",
    "    min2_nodelist = []\n",
    "\n",
    "    for i in range(len(g.nodes)):\n",
    "        group = g.nodes[i]['m']\n",
    "        if group == 0:\n",
    "            maj_nodelist.append(i)\n",
    "        elif group == 1:\n",
    "            min1_nodelist.append(i)\n",
    "        elif group == 2:\n",
    "            min2_nodelist.append(i)\n",
    "        else:\n",
    "            print(\"ERROR: group\", group)\n",
    "\n",
    "    subax2 = plt.subplot()\n",
    "    pos = nx.circular_layout(g)\n",
    "    nx.draw_networkx(g, nodelist=maj_nodelist, pos=pos, with_labels=False, node_size= 50, node_color='#B6312C')\n",
    "    nx.draw_networkx(g, nodelist=min1_nodelist, pos=pos, with_labels=False, node_size= 50, node_color='#84CAE7')\n",
    "    nx.draw_networkx(g, nodelist=min2_nodelist, pos=pos, with_labels=False, node_size= 50, node_color='#136F63')\n",
    "\n",
    "    plt.show()"
   ]
  },
  {
   "cell_type": "code",
   "execution_count": 18,
   "id": "553e124e",
   "metadata": {},
   "outputs": [],
   "source": [
    "#investigate graph... check to see what nx can do\n",
    "#for g in graphs:\n",
    " #   print(g)\n",
    "    #draw_graph(g)\n",
    "    #print(\"average clustering coefficient:\", round(nx.algorithms.average_clustering(g),3))"
   ]
  },
  {
   "cell_type": "code",
   "execution_count": 19,
   "id": "33c9e7c6",
   "metadata": {},
   "outputs": [],
   "source": [
    "  "
   ]
  }
 ],
 "metadata": {
  "kernelspec": {
   "display_name": "Python 3 (ipykernel)",
   "language": "python",
   "name": "python3"
  },
  "language_info": {
   "codemirror_mode": {
    "name": "ipython",
    "version": 3
   },
   "file_extension": ".py",
   "mimetype": "text/x-python",
   "name": "python",
   "nbconvert_exporter": "python",
   "pygments_lexer": "ipython3",
   "version": "3.8.5"
  }
 },
 "nbformat": 4,
 "nbformat_minor": 5
}
