{
 "cells": [
  {
   "cell_type": "code",
   "execution_count": 1,
   "id": "15048695",
   "metadata": {},
   "outputs": [],
   "source": [
    "%load_ext autoreload\n",
    "%autoreload 2\n",
    "%matplotlib inline\n",
    "\n",
    "import sys\n",
    "sys.path.append(\"..\")\n",
    "\n",
    "import networkx as nx\n",
    "import matplotlib.pyplot as plt\n",
    "import seaborn as sns\n",
    "import time\n",
    "import numpy as np\n",
    "from scipy import sparse\n",
    "import pandas as pd\n",
    "\n",
    "import paper.eval as eval\n",
    "from paper.DPAH_multiple_minorities import DPAH"
   ]
  },
  {
   "cell_type": "markdown",
   "id": "f3ad2f87",
   "metadata": {},
   "source": [
    "## model parameters"
   ]
  },
  {
   "cell_type": "code",
   "execution_count": 8,
   "id": "8d3988fb",
   "metadata": {},
   "outputs": [],
   "source": [
    "# Number of nodes\n",
    "N = 2000\n",
    "\n",
    "# max edge density\n",
    "d = 0.002\n",
    "\n",
    "# Top beta% of rankings to consider for inequity\n",
    "beta = 0.1\n",
    "\n",
    "# Top k nodes to consider for inequity. k = N * beta\n",
    "k = int(N * beta)\n",
    "\n",
    "# Minority fractions\n",
    "fm1 = 0.1\n",
    "fm2 = 0.1\n",
    "\n",
    "# Activity distribution parameters\n",
    "plo_M = 3\n",
    "plo_m1 = 3\n",
    "plo_m2 = 3\n",
    "\n",
    "# homophily\n",
    "#h_MM = 1/3\n",
    "#h_Mm = (1.0 - h_MM)/2.0\n",
    "#h_within = 0.7\n",
    "#h_between = 0.1\n",
    "#h_mM = (1.0 - h_within - h_between)\n",
    "#\n",
    "#h = [[h_MM, h_Mm, h_Mm],\n",
    "#    [h_mM, h_within, h_between],\n",
    "#    [h_mM, h_between, h_within]]"
   ]
  },
  {
   "cell_type": "code",
   "execution_count": 9,
   "id": "f3bfde0c-aa44-4cda-b797-9a8756331c88",
   "metadata": {},
   "outputs": [],
   "source": [
    "def compute_inequity(g, k):\n",
    "    \"\"\"Compute the proportion of minorities in the top k ranks of g\"\"\"\n",
    "    node_pageranks = nx.pagerank(g)\n",
    "    node_pageranks_sorted = sorted(node_pageranks.items(), key=lambda x: x[1], reverse=True)\n",
    "    top_k = node_pageranks_sorted[:k]\n",
    "    num_top_k_minority = np.count_nonzero([g.nodes[node_id]['m'] for (node_id, _) in top_k])\n",
    "    \n",
    "    return num_top_k_minority / k  "
   ]
  },
  {
   "cell_type": "markdown",
   "id": "54152165",
   "metadata": {},
   "source": [
    "## experiment parameters"
   ]
  },
  {
   "cell_type": "code",
   "execution_count": 14,
   "id": "423780e7",
   "metadata": {},
   "outputs": [],
   "source": [
    "runs = 10"
   ]
  },
  {
   "cell_type": "code",
   "execution_count": 15,
   "id": "fcd9f77e-60aa-42e8-9854-a88effc962b8",
   "metadata": {},
   "outputs": [],
   "source": [
    "h_MM_options = [0.2,1/3,0.8]\n",
    "h_mm_options = [0.1,0.5,0.9]"
   ]
  },
  {
   "cell_type": "markdown",
   "id": "b80f33a9-ce21-4481-b9db-bb7b141b26c9",
   "metadata": {},
   "source": [
    "# EXPERIMENTS"
   ]
  },
  {
   "cell_type": "code",
   "execution_count": 16,
   "id": "3da5bba4-3c8a-48d0-9307-bb81b8b9840c",
   "metadata": {},
   "outputs": [
    {
     "name": "stdout",
     "output_type": "stream",
     "text": [
      "Experiment 1\n",
      "0.2\n",
      "0.1\n",
      "Experiment 2\n",
      "0.2\n",
      "0.5\n",
      "Experiment 3\n",
      "0.2\n",
      "0.9\n",
      "Experiment 4\n",
      "0.3333333333333333\n",
      "0.1\n",
      "Experiment 5\n",
      "0.3333333333333333\n",
      "0.5\n",
      "Experiment 6\n",
      "0.3333333333333333\n",
      "0.9\n",
      "Experiment 7\n",
      "0.8\n",
      "0.1\n",
      "Experiment 8\n",
      "0.8\n",
      "0.5\n",
      "Experiment 9\n",
      "0.8\n",
      "0.9\n"
     ]
    }
   ],
   "source": [
    "t = 0\n",
    "for i in h_MM_options:\n",
    "    for j in h_mm_options:\n",
    "        t += 1\n",
    "        print('Experiment', t)\n",
    "        # homophily\n",
    "        h_MM = i\n",
    "        h_Mm = (1.0 - h_MM)/2.0\n",
    "        h_within = j\n",
    "        h_between = 0\n",
    "        h_mM = (1.0 - h_within - h_between)\n",
    "\n",
    "        h = [[h_MM, h_Mm, h_Mm],\n",
    "            [h_mM, h_within, h_between],\n",
    "            [h_mM, h_between, h_within]]\n",
    "        print(h_MM)\n",
    "        print(h_within)"
   ]
  },
  {
   "cell_type": "code",
   "execution_count": 35,
   "id": "2d74969a-2efc-4cc9-8986-e9745421ff4c",
   "metadata": {},
   "outputs": [
    {
     "ename": "SyntaxError",
     "evalue": "invalid syntax (2806412784.py, line 1)",
     "output_type": "error",
     "traceback": [
      "\u001b[0;36m  Input \u001b[0;32mIn [35]\u001b[0;36m\u001b[0m\n\u001b[0;31m    simulation 1 = experiment 6\u001b[0m\n\u001b[0m               ^\u001b[0m\n\u001b[0;31mSyntaxError\u001b[0m\u001b[0;31m:\u001b[0m invalid syntax\n"
     ]
    }
   ],
   "source": [
    "simulation 1 = experiment 6\n",
    "simulation 2 = experiment 3\n",
    "simulation 3 = experiment 9\n",
    "simulation 4 = experiment 5\n",
    "simulation 5 = experiment 2\n",
    "simulation 6 = experiment 8\n",
    "simulation 7 = experiment 4\n",
    "simulation 8 = experiment 1\n",
    "simulation 9 = experiment 7\n",
    "\n"
   ]
  },
  {
   "cell_type": "code",
   "execution_count": 17,
   "id": "a90ba9ff",
   "metadata": {},
   "outputs": [
    {
     "name": "stdout",
     "output_type": "stream",
     "text": [
      "Experiment 1\n",
      "finished 10 run(s) with 2000 nodes each in 843.98 seconds\n",
      "Experiment 2\n",
      "finished 10 run(s) with 2000 nodes each in 839.01 seconds\n",
      "Experiment 3\n",
      "finished 10 run(s) with 2000 nodes each in 870.59 seconds\n",
      "Experiment 4\n",
      "finished 10 run(s) with 2000 nodes each in 845.25 seconds\n",
      "Experiment 5\n",
      "finished 10 run(s) with 2000 nodes each in 841.53 seconds\n",
      "Experiment 6\n",
      "finished 10 run(s) with 2000 nodes each in 848.1 seconds\n",
      "Experiment 7\n",
      "finished 10 run(s) with 2000 nodes each in 847.59 seconds\n",
      "Experiment 8\n",
      "finished 10 run(s) with 2000 nodes each in 846.31 seconds\n",
      "Experiment 9\n",
      "finished 10 run(s) with 2000 nodes each in 848.15 seconds\n"
     ]
    }
   ],
   "source": [
    "t = 0\n",
    "\n",
    "inequities = {}\n",
    "\n",
    "for i in h_MM_options:\n",
    "    for j in h_mm_options:\n",
    "        t += 1\n",
    "        print('Experiment', t)\n",
    "\n",
    "        # homophily\n",
    "        h_MM = i\n",
    "        h_Mm = max(0,(1.0 - h_MM)/2.0)\n",
    "        h_within = j\n",
    "        h_between = 0\n",
    "        h_mM = max(0,(1.0 - h_within - h_between))\n",
    "\n",
    "        h = [[h_MM, h_Mm, h_Mm],\n",
    "            [h_mM, h_within, h_between],\n",
    "            [h_mM, h_between, h_within]]\n",
    "\n",
    "        #graphs = []\n",
    "        start_time = time.time()\n",
    "        results =[]\n",
    "\n",
    "\n",
    "        for r in range(runs):\n",
    "            g = DPAH(N=N, d=d, fm1=fm1, fm2=fm2, plo_M=plo_M, plo_m1=plo_m1, plo_m2=plo_m2, h=h, verbose=False, seed=r)\n",
    "            node_identities = [[node_id,g.nodes[node_id]['m']] for node_id in list(g.nodes())]\n",
    "            ineq= compute_inequity(g, 50)\n",
    "            inequities[f'{str(t)}_{str(r)}']=ineq\n",
    "            df = pd.DataFrame(node_identities,columns=['node_id','group'])\n",
    "            df.to_csv(f\"networks/nodelist_{str(t)}_run_{str(r)}.csv\",index=False)\n",
    "            adj = nx.to_scipy_sparse_array(g,nodelist = list(g.nodes()))\n",
    "            adj = sparse.coo_matrix(adj)\n",
    "            sparse.save_npz(f\"networks/adj_matrix_type_{str(t)}_run_{str(r)}.npz\", adj)\n",
    "\n",
    "        end_time = time.time()\n",
    "        print(\"finished {} run(s) with {} nodes each in {} seconds\".format(runs, N, str(round((end_time - start_time), 2))))"
   ]
  },
  {
   "cell_type": "code",
   "execution_count": 21,
   "id": "ae365598-f5e0-47dd-a640-720e22e39600",
   "metadata": {},
   "outputs": [],
   "source": [
    "results = {}\n",
    "deviations={}\n",
    "for t in range(9):\n",
    "    t = t +1\n",
    "    experiment= []\n",
    "    for r in range(10):\n",
    "        experiment = np.append(experiment,inequities[f'{str(t)}_{str(r)}'])\n",
    "    results[f'{str(t)}'] = np.mean(experiment)\n",
    "    deviations[f'{str(t)}'] = np.std(experiment)\n",
    "    "
   ]
  },
  {
   "cell_type": "code",
   "execution_count": 39,
   "id": "10879550-2c63-47c5-abb9-bc7aec2bfdc5",
   "metadata": {},
   "outputs": [],
   "source": [
    "results.keys()\n",
    "\n",
    "right_order = ['6','3','9','5','2','8','4','1','7']\n",
    "\n",
    "yval = []\n",
    "std = []\n",
    "for o in right_order:\n",
    "    yval = np.append(yval,results[o])\n",
    "    std = np.append(std,deviations[o])"
   ]
  },
  {
   "cell_type": "code",
   "execution_count": 25,
   "id": "6127773a-def2-437f-99f2-9713aa53beca",
   "metadata": {},
   "outputs": [
    {
     "data": {
      "text/plain": [
       "dict_values([0.384, 0.45000000000000007, 0.76, 0.10800000000000001, 0.148, 0.5079999999999999, 0.004, 0.006, 0.004])"
      ]
     },
     "execution_count": 25,
     "metadata": {},
     "output_type": "execute_result"
    }
   ],
   "source": [
    "results.values()"
   ]
  },
  {
   "cell_type": "code",
   "execution_count": 41,
   "id": "d26aee08-be6c-41ec-b896-0ba6dc4902c6",
   "metadata": {},
   "outputs": [
    {
     "data": {
      "image/png": "[encoded data removed]",
      "text/plain": [
       "<Figure size 432x288 with 1 Axes>"
      ]
     },
     "metadata": {
      "needs_background": "light"
     },
     "output_type": "display_data"
    }
   ],
   "source": [
    "plt.plot(results.keys(),yval,'o-')\n",
    "plt.fill_between(results.keys(),[a-b for a,b in zip(yval,std)],\n",
    "                [a+b for a,b in zip(yval,std)],alpha=0.2)\n",
    "plt.title('Percentage of minorities in top 50 rank')\n",
    "plt.ylabel('% top 50')\n",
    "plt.xlabel('Experiment nº')\n",
    "plt.plot(results.keys(),(fm1+fm2)*np.ones(9),'r',label = 'Real proportion')\n",
    "\n",
    "plt.legend()\n",
    "\n",
    "plt.savefig('top50_experiments.png')"
   ]
  },
  {
   "cell_type": "code",
   "execution_count": 18,
   "id": "cd5af9b2-989f-4da9-b46f-ff40ad6b4f38",
   "metadata": {},
   "outputs": [
    {
     "ename": "FileNotFoundError",
     "evalue": "[Errno 2] No such file or directory: 'networks/adj_matrix_type_9_run_0.8.npz'",
     "output_type": "error",
     "traceback": [
      "\u001b[0;31m---------------------------------------------------------------------------\u001b[0m",
      "\u001b[0;31mFileNotFoundError\u001b[0m                         Traceback (most recent call last)",
      "Input \u001b[0;32mIn [18]\u001b[0m, in \u001b[0;36m<cell line: 4>\u001b[0;34m()\u001b[0m\n\u001b[1;32m      1\u001b[0m \u001b[38;5;66;03m#TO READ\u001b[39;00m\n\u001b[1;32m      2\u001b[0m \n\u001b[1;32m      3\u001b[0m \u001b[38;5;66;03m#EDGE_LIST\u001b[39;00m\n\u001b[0;32m----> 4\u001b[0m adj \u001b[38;5;241m=\u001b[39m \u001b[43msparse\u001b[49m\u001b[38;5;241;43m.\u001b[39;49m\u001b[43mload_npz\u001b[49m\u001b[43m(\u001b[49m\u001b[38;5;124;43mf\u001b[39;49m\u001b[38;5;124;43m\"\u001b[39;49m\u001b[38;5;124;43mnetworks/adj_matrix_type_\u001b[39;49m\u001b[38;5;132;43;01m{\u001b[39;49;00m\u001b[38;5;28;43mstr\u001b[39;49m\u001b[43m(\u001b[49m\u001b[43mt\u001b[49m\u001b[43m)\u001b[49m\u001b[38;5;132;43;01m}\u001b[39;49;00m\u001b[38;5;124;43m_run_\u001b[39;49m\u001b[38;5;132;43;01m{\u001b[39;49;00m\u001b[38;5;28;43mstr\u001b[39;49m\u001b[43m(\u001b[49m\u001b[43mi\u001b[49m\u001b[43m)\u001b[49m\u001b[38;5;132;43;01m}\u001b[39;49;00m\u001b[38;5;124;43m.npz\u001b[39;49m\u001b[38;5;124;43m\"\u001b[39;49m\u001b[43m)\u001b[49m\n\u001b[1;32m      5\u001b[0m edge_list \u001b[38;5;241m=\u001b[39m np\u001b[38;5;241m.\u001b[39mcolumn_stack((adj\u001b[38;5;241m.\u001b[39mrow,adj\u001b[38;5;241m.\u001b[39mcol,adj\u001b[38;5;241m.\u001b[39mdata))\n\u001b[1;32m      6\u001b[0m el_dataframe \u001b[38;5;241m=\u001b[39m pd\u001b[38;5;241m.\u001b[39mDataFrame(edge_list,columns \u001b[38;5;241m=\u001b[39m [\u001b[38;5;124m'\u001b[39m\u001b[38;5;124msource\u001b[39m\u001b[38;5;124m'\u001b[39m,\u001b[38;5;124m'\u001b[39m\u001b[38;5;124mtarget\u001b[39m\u001b[38;5;124m'\u001b[39m,\u001b[38;5;124m'\u001b[39m\u001b[38;5;124mis_link\u001b[39m\u001b[38;5;124m'\u001b[39m])\n",
      "File \u001b[0;32m~/anaconda3/lib/python3.8/site-packages/scipy/sparse/_matrix_io.py:123\u001b[0m, in \u001b[0;36mload_npz\u001b[0;34m(file)\u001b[0m\n\u001b[1;32m     75\u001b[0m \u001b[38;5;28;01mdef\u001b[39;00m \u001b[38;5;21mload_npz\u001b[39m(file):\n\u001b[1;32m     76\u001b[0m     \u001b[38;5;124;03m\"\"\" Load a sparse matrix from a file using ``.npz`` format.\u001b[39;00m\n\u001b[1;32m     77\u001b[0m \n\u001b[1;32m     78\u001b[0m \u001b[38;5;124;03m    Parameters\u001b[39;00m\n\u001b[0;32m   (...)\u001b[0m\n\u001b[1;32m    120\u001b[0m \u001b[38;5;124;03m           [4, 0, 0]], dtype=int64)\u001b[39;00m\n\u001b[1;32m    121\u001b[0m \u001b[38;5;124;03m    \"\"\"\u001b[39;00m\n\u001b[0;32m--> 123\u001b[0m     \u001b[38;5;28;01mwith\u001b[39;00m \u001b[43mnp\u001b[49m\u001b[38;5;241;43m.\u001b[39;49m\u001b[43mload\u001b[49m\u001b[43m(\u001b[49m\u001b[43mfile\u001b[49m\u001b[43m,\u001b[49m\u001b[43m \u001b[49m\u001b[38;5;241;43m*\u001b[39;49m\u001b[38;5;241;43m*\u001b[39;49m\u001b[43mPICKLE_KWARGS\u001b[49m\u001b[43m)\u001b[49m \u001b[38;5;28;01mas\u001b[39;00m loaded:\n\u001b[1;32m    124\u001b[0m         \u001b[38;5;28;01mtry\u001b[39;00m:\n\u001b[1;32m    125\u001b[0m             matrix_format \u001b[38;5;241m=\u001b[39m loaded[\u001b[38;5;124m'\u001b[39m\u001b[38;5;124mformat\u001b[39m\u001b[38;5;124m'\u001b[39m]\n",
      "File \u001b[0;32m~/anaconda3/lib/python3.8/site-packages/numpy/lib/npyio.py:407\u001b[0m, in \u001b[0;36mload\u001b[0;34m(file, mmap_mode, allow_pickle, fix_imports, encoding)\u001b[0m\n\u001b[1;32m    405\u001b[0m     own_fid \u001b[38;5;241m=\u001b[39m \u001b[38;5;28;01mFalse\u001b[39;00m\n\u001b[1;32m    406\u001b[0m \u001b[38;5;28;01melse\u001b[39;00m:\n\u001b[0;32m--> 407\u001b[0m     fid \u001b[38;5;241m=\u001b[39m stack\u001b[38;5;241m.\u001b[39menter_context(\u001b[38;5;28;43mopen\u001b[39;49m\u001b[43m(\u001b[49m\u001b[43mos_fspath\u001b[49m\u001b[43m(\u001b[49m\u001b[43mfile\u001b[49m\u001b[43m)\u001b[49m\u001b[43m,\u001b[49m\u001b[43m \u001b[49m\u001b[38;5;124;43m\"\u001b[39;49m\u001b[38;5;124;43mrb\u001b[39;49m\u001b[38;5;124;43m\"\u001b[39;49m\u001b[43m)\u001b[49m)\n\u001b[1;32m    408\u001b[0m     own_fid \u001b[38;5;241m=\u001b[39m \u001b[38;5;28;01mTrue\u001b[39;00m\n\u001b[1;32m    410\u001b[0m \u001b[38;5;66;03m# Code to distinguish from NumPy binary files and pickles.\u001b[39;00m\n",
      "\u001b[0;31mFileNotFoundError\u001b[0m: [Errno 2] No such file or directory: 'networks/adj_matrix_type_9_run_0.8.npz'"
     ]
    }
   ],
   "source": [
    "#TO READ\n",
    "t = 1\n",
    "r =2\n",
    "\n",
    "#EDGE_LIST\n",
    "adj = sparse.load_npz(f\"networks/adj_matrix_type_{str(t)}_run_{str(r)}.npz\")\n",
    "edge_list = np.column_stack((adj.row,adj.col,adj.data))\n",
    "el_dataframe = pd.DataFrame(edge_list,columns = ['source','target','is_link'])\n",
    "\n",
    "\n",
    "#NODE_LIST\n",
    "df_nodes = pd.read_csv(f\"networks/nodelist_{str(t)}_run_{str(r)}.csv\",index_col= 'node_id')\n"
   ]
  },
  {
   "cell_type": "code",
   "execution_count": null,
   "id": "f474d755-1a06-4e1e-bc2b-2f0d7eb57122",
   "metadata": {},
   "outputs": [],
   "source": [
    "el_dataframe.head()"
   ]
  },
  {
   "cell_type": "code",
   "execution_count": null,
   "id": "c3a46730-1554-49f5-8348-3b4cd5cd7638",
   "metadata": {},
   "outputs": [],
   "source": [
    "df_nodes.head()"
   ]
  },
  {
   "cell_type": "markdown",
   "id": "a5c3b074-85ff-444d-9d15-a34f2361fde2",
   "metadata": {},
   "source": [
    "### Experiment 4"
   ]
  },
  {
   "cell_type": "code",
   "execution_count": null,
   "id": "7eb7f2b2-a5de-4b49-9341-2a01d26b483c",
   "metadata": {},
   "outputs": [],
   "source": [
    "fig =  plt.subplots(1, figsize=(5,3))\n",
    "plt.plot(size_values, prop_top, label ='proportion of minority in top 20')\n",
    "plt.fill_between(size_values,[a-b for a,b in zip(prop_top,prop_top_std)],[a+b for a,b in zip(prop_top,prop_top_std)],alpha=0.4)\n",
    "\n",
    "\n",
    "plt.plot(size_values,size_values*2,'r',label = 'Real proportion')\n",
    "#plt.xlim(-1,28)\n",
    "plt.ylim(0,1)\n",
    "plt.xlabel('Minority size',fontsize=13)\n",
    "plt.ylabel('Proportion of minority',fontsize=13)\n",
    "\n",
    "plt.title('Experiment whatever',fontsize=14)\n",
    "plt.legend()\n",
    "plt.tight_layout()\n",
    "#plt.savefig('../../figures/timeline_temporary_track_max.png',dpi=200)"
   ]
  },
  {
   "cell_type": "markdown",
   "id": "012a180a-b654-4b20-b217-31dd7b385abc",
   "metadata": {
    "tags": []
   },
   "source": [
    "### Experiment3"
   ]
  },
  {
   "cell_type": "code",
   "execution_count": null,
   "id": "9bdeb5df-c2c5-4df9-9ec1-82b0482e0b49",
   "metadata": {},
   "outputs": [],
   "source": [
    "fig =  plt.subplots(1, figsize=(5,3))\n",
    "plt.plot(h_MM_values, prop_top, label ='proportion of minority in top 20')\n",
    "plt.fill_between(h_MM_values,[a-b for a,b in zip(prop_top,prop_top_std)],[a+b for a,b in zip(prop_top,prop_top_std)],alpha=0.4)\n",
    "\n",
    "\n",
    "plt.plot(h_MM_values,(fm1+fm2)*np.ones(10),'r',label = 'Real proportion')\n",
    "#plt.xlim(-1,28)\n",
    "plt.ylim(0,1)\n",
    "plt.xlabel('h_MM (decrease of hMm)',fontsize=13)\n",
    "plt.ylabel('Proportion of minority',fontsize=13)\n",
    "\n",
    "plt.title('Experiment whatever',fontsize=14)\n",
    "plt.legend()\n",
    "plt.tight_layout()\n",
    "#plt.savefig('../../figures/timeline_temporary_track_max.png',dpi=200)"
   ]
  },
  {
   "cell_type": "markdown",
   "id": "c0b0a854-de24-45a6-80b6-e41f2160e9c9",
   "metadata": {
    "tags": []
   },
   "source": [
    "### Experiment2"
   ]
  },
  {
   "cell_type": "code",
   "execution_count": 14,
   "id": "344eefa8-2786-4c6a-ab20-59316877ec78",
   "metadata": {},
   "outputs": [
    {
     "ename": "NameError",
     "evalue": "name 'h_between_values' is not defined",
     "output_type": "error",
     "traceback": [
      "\u001b[0;31m---------------------------------------------------------------------------\u001b[0m",
      "\u001b[0;31mNameError\u001b[0m                                 Traceback (most recent call last)",
      "Input \u001b[0;32mIn [14]\u001b[0m, in \u001b[0;36m<cell line: 2>\u001b[0;34m()\u001b[0m\n\u001b[1;32m      1\u001b[0m fig \u001b[38;5;241m=\u001b[39m  plt\u001b[38;5;241m.\u001b[39msubplots(\u001b[38;5;241m1\u001b[39m, figsize\u001b[38;5;241m=\u001b[39m(\u001b[38;5;241m5\u001b[39m,\u001b[38;5;241m3\u001b[39m))\n\u001b[0;32m----> 2\u001b[0m plt\u001b[38;5;241m.\u001b[39mplot(\u001b[43mh_between_values\u001b[49m, prop_top, label \u001b[38;5;241m=\u001b[39m\u001b[38;5;124m'\u001b[39m\u001b[38;5;124mproportion of minority in top 20\u001b[39m\u001b[38;5;124m'\u001b[39m)\n\u001b[1;32m      3\u001b[0m plt\u001b[38;5;241m.\u001b[39mfill_between(h_between_values,[a\u001b[38;5;241m-\u001b[39mb \u001b[38;5;28;01mfor\u001b[39;00m a,b \u001b[38;5;129;01min\u001b[39;00m \u001b[38;5;28mzip\u001b[39m(prop_top,prop_top_std)],[a\u001b[38;5;241m+\u001b[39mb \u001b[38;5;28;01mfor\u001b[39;00m a,b \u001b[38;5;129;01min\u001b[39;00m \u001b[38;5;28mzip\u001b[39m(prop_top,prop_top_std)],alpha\u001b[38;5;241m=\u001b[39m\u001b[38;5;241m0.4\u001b[39m)\n\u001b[1;32m      6\u001b[0m plt\u001b[38;5;241m.\u001b[39mplot(h_between_values,(fm1\u001b[38;5;241m+\u001b[39mfm2)\u001b[38;5;241m*\u001b[39mnp\u001b[38;5;241m.\u001b[39mones(\u001b[38;5;241m10\u001b[39m),\u001b[38;5;124m'\u001b[39m\u001b[38;5;124mr\u001b[39m\u001b[38;5;124m'\u001b[39m,label \u001b[38;5;241m=\u001b[39m \u001b[38;5;124m'\u001b[39m\u001b[38;5;124mReal proportion\u001b[39m\u001b[38;5;124m'\u001b[39m)\n",
      "\u001b[0;31mNameError\u001b[0m: name 'h_between_values' is not defined"
     ]
    },
    {
     "data": {
      "image/png": "[encoded data removed]",
      "text/plain": [
       "<Figure size 360x216 with 1 Axes>"
      ]
     },
     "metadata": {
      "needs_background": "light"
     },
     "output_type": "display_data"
    }
   ],
   "source": [
    "fig =  plt.subplots(1, figsize=(5,3))\n",
    "plt.plot(h_between_values, prop_top, label ='proportion of minority in top 20')\n",
    "plt.fill_between(h_between_values,[a-b for a,b in zip(prop_top,prop_top_std)],[a+b for a,b in zip(prop_top,prop_top_std)],alpha=0.4)\n",
    "\n",
    "\n",
    "plt.plot(h_between_values,(fm1+fm2)*np.ones(10),'r',label = 'Real proportion')\n",
    "#plt.xlim(-1,28)\n",
    "plt.ylim(0.15,0.4)\n",
    "plt.xlabel('h_between (decrease of hmM)',fontsize=13)\n",
    "plt.ylabel('Proportion of minority',fontsize=13)\n",
    "\n",
    "plt.title('Experiment whatever',fontsize=14)\n",
    "plt.legend()\n",
    "plt.tight_layout()\n",
    "plt.savefig('between.png',dpi=200)"
   ]
  },
  {
   "cell_type": "markdown",
   "id": "136b4863-f6c8-42ab-aa2e-79f51e8949f5",
   "metadata": {
    "tags": []
   },
   "source": [
    "### Experiment1"
   ]
  },
  {
   "cell_type": "code",
   "execution_count": 99,
   "id": "fe76ba88-4eea-4f01-8cc4-32423d7a8097",
   "metadata": {},
   "outputs": [
    {
     "data": {
      "image/png": "[encoded data removed]",
      "text/plain": [
       "<Figure size 360x216 with 1 Axes>"
      ]
     },
     "metadata": {
      "needs_background": "light"
     },
     "output_type": "display_data"
    }
   ],
   "source": [
    "fig =  plt.subplots(1, figsize=(5,3))\n",
    "plt.plot(h_within_values, prop_top, label ='proportion of minority in top 20')\n",
    "plt.fill_between(h_within_values,[a-b for a,b in zip(prop_top,prop_top_std)],[a+b for a,b in zip(prop_top,prop_top_std)],alpha=0.4)\n",
    "\n",
    "\n",
    "plt.plot(h_within_values,(fm1+fm2)*np.ones(10),'r',label = 'Real proportion')\n",
    "#plt.xlim(-1,28)\n",
    "plt.ylim(0.1,0.35)\n",
    "plt.xlabel('h_within (decrease of hmM)',fontsize=13)\n",
    "plt.ylabel('Proportion of minority',fontsize=13)\n",
    "\n",
    "plt.title('Experiment whatever',fontsize=14)\n",
    "plt.legend()\n",
    "plt.tight_layout()\n",
    "#plt.savefig('../../figures/timeline_temporary_track_max.png',dpi=200)"
   ]
  },
  {
   "cell_type": "markdown",
   "id": "64c0b726",
   "metadata": {},
   "source": [
    "## analysis"
   ]
  },
  {
   "cell_type": "code",
   "execution_count": 7,
   "id": "b50f3f0d",
   "metadata": {},
   "outputs": [],
   "source": [
    "def draw_graph(g):\n",
    "    maj_nodelist = []\n",
    "    min1_nodelist = []\n",
    "    min2_nodelist = []\n",
    "\n",
    "    for i in range(len(g.nodes)):\n",
    "        group = g.nodes[i]['m']\n",
    "        if group == 0:\n",
    "            maj_nodelist.append(i)\n",
    "        elif group == 1:\n",
    "            min1_nodelist.append(i)\n",
    "        elif group == 2:\n",
    "            min2_nodelist.append(i)\n",
    "        else:\n",
    "            print(\"ERROR: group\", group)\n",
    "\n",
    "    subax2 = plt.subplot()\n",
    "    pos = nx.circular_layout(g)\n",
    "    nx.draw_networkx(g, nodelist=maj_nodelist, pos=pos, with_labels=False, node_size= 50, node_color='#B6312C')\n",
    "    nx.draw_networkx(g, nodelist=min1_nodelist, pos=pos, with_labels=False, node_size= 50, node_color='#84CAE7')\n",
    "    nx.draw_networkx(g, nodelist=min2_nodelist, pos=pos, with_labels=False, node_size= 50, node_color='#136F63')\n",
    "\n",
    "    plt.show()"
   ]
  },
  {
   "cell_type": "code",
   "execution_count": 164,
   "id": "553e124e",
   "metadata": {},
   "outputs": [
    {
     "ename": "NameError",
     "evalue": "name 'graphs' is not defined",
     "output_type": "error",
     "traceback": [
      "\u001b[0;31m---------------------------------------------------------------------------\u001b[0m",
      "\u001b[0;31mNameError\u001b[0m                                 Traceback (most recent call last)",
      "Input \u001b[0;32mIn [164]\u001b[0m, in \u001b[0;36m<cell line: 2>\u001b[0;34m()\u001b[0m\n\u001b[1;32m      1\u001b[0m \u001b[38;5;66;03m#investigate graph... check to see what nx can do\u001b[39;00m\n\u001b[0;32m----> 2\u001b[0m \u001b[38;5;28;01mfor\u001b[39;00m g \u001b[38;5;129;01min\u001b[39;00m \u001b[43mgraphs\u001b[49m:\n\u001b[1;32m      3\u001b[0m  \u001b[38;5;66;03m#   print(g)\u001b[39;00m\n\u001b[1;32m      4\u001b[0m     draw_graph(g)\n\u001b[1;32m      5\u001b[0m     \u001b[38;5;28mprint\u001b[39m(\u001b[38;5;124m\"\u001b[39m\u001b[38;5;124maverage clustering coefficient:\u001b[39m\u001b[38;5;124m\"\u001b[39m, \u001b[38;5;28mround\u001b[39m(nx\u001b[38;5;241m.\u001b[39malgorithms\u001b[38;5;241m.\u001b[39maverage_clustering(g),\u001b[38;5;241m3\u001b[39m))\n",
      "\u001b[0;31mNameError\u001b[0m: name 'graphs' is not defined"
     ]
    }
   ],
   "source": [
    "#investigate graph... check to see what nx can do\n",
    "for g in graphs:\n",
    " #   print(g)\n",
    "    draw_graph(g)\n",
    "    print(\"average clustering coefficient:\", round(nx.algorithms.average_clustering(g),3))"
   ]
  },
  {
   "cell_type": "code",
   "execution_count": 165,
   "id": "33c9e7c6",
   "metadata": {},
   "outputs": [
    {
     "ename": "NameError",
     "evalue": "name 'draw_graph' is not defined",
     "output_type": "error",
     "traceback": [
      "\u001b[0;31m---------------------------------------------------------------------------\u001b[0m",
      "\u001b[0;31mNameError\u001b[0m                                 Traceback (most recent call last)",
      "Input \u001b[0;32mIn [165]\u001b[0m, in \u001b[0;36m<cell line: 1>\u001b[0;34m()\u001b[0m\n\u001b[0;32m----> 1\u001b[0m \u001b[43mdraw_graph\u001b[49m(g)\n",
      "\u001b[0;31mNameError\u001b[0m: name 'draw_graph' is not defined"
     ]
    }
   ],
   "source": [
    "draw_graph(g)"
   ]
  },
  {
   "cell_type": "code",
   "execution_count": null,
   "id": "d721bc7a-c204-4c6e-95f6-f4adb267893d",
   "metadata": {},
   "outputs": [],
   "source": []
  }
 ],
 "metadata": {
  "kernelspec": {
   "display_name": "Python 3 (ipykernel)",
   "language": "python",
   "name": "python3"
  },
  "language_info": {
   "codemirror_mode": {
    "name": "ipython",
    "version": 3
   },
   "file_extension": ".py",
   "mimetype": "text/x-python",
   "name": "python",
   "nbconvert_exporter": "python",
   "pygments_lexer": "ipython3",
   "version": "3.8.5"
  }
 },
 "nbformat": 4,
 "nbformat_minor": 5
}
