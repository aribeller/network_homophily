{
 "cells": [
  {
   "cell_type": "code",
   "execution_count": 93,
   "id": "3d72596e-e3ab-4577-86ff-716697908e5c",
   "metadata": {},
   "outputs": [],
   "source": [
    "# The import order is important\n",
    "import matplotlib as mpl \n",
    "mpl.use('cairo') \n",
    "%matplotlib inline \n",
    "import matplotlib.pyplot as plt\n",
    "\n",
    "import graph_tool.all as gt\n",
    "\n",
    "from scipy import sparse\n",
    "\n",
    "import numpy as np\n",
    "import pandas as pd"
   ]
  },
  {
   "cell_type": "code",
   "execution_count": 130,
   "id": "3a2b4b46-9910-480f-9d02-bfd2a53a5233",
   "metadata": {},
   "outputs": [
    {
     "name": "stdout",
     "output_type": "stream",
     "text": [
      "(array([2]),)\n",
      "total number of vertices 2000\n",
      "total number of edges 7996\n",
      "number of vertices in connected component 1065\n",
      "number of edges in connected component 5340\n"
     ]
    }
   ],
   "source": [
    "#TO READ\n",
    "\n",
    "t = 1\n",
    "i = 0\n",
    "\n",
    "#EDGE_LIST\n",
    "adj = sparse.load_npz(f\"networks/adj_matrix_type_{str(t)}_run_{str(i)}.npz\")\n",
    "edge_list = np.column_stack((adj.row,adj.col,adj.data))\n",
    "el_dataframe = pd.DataFrame(edge_list,columns = ['source','target','is_link'])\n",
    "\n",
    "\n",
    "#NODE_LIST\n",
    "df_nodes = pd.read_csv(f\"networks/nodelist_{str(t)}_run_{str(i)}.csv\")\n",
    "\n",
    "edges = el_dataframe.to_numpy()\n",
    "#define graph as directed\n",
    "G = gt.Graph(directed=True)\n",
    "\n",
    "#add the edge list to the graph, vertices are added with the number label\n",
    "G.add_edge_list(edges)\n",
    "\n",
    "vprop_label = G.new_vertex_property(\"double\")            \n",
    "v = G.vertex(10)\n",
    "for v in G.iter_vertices():\n",
    "    label = df_nodes[df_nodes.node_id==v]['group']\n",
    "    vprop_label[v] = label.values[0]\n",
    "    \n",
    "vertices = G.get_vertices()\n",
    "indeg = G.get_in_degrees(vertices)\n",
    "outdeg = G.get_out_degrees(vertices)\n",
    "\n",
    "#get connected components with a histogram of the belonging nodes\n",
    "comp, hist = gt.label_components(G,directed = True)\n",
    "\n",
    "#check which connected components have more than 1 node (in our case one)\n",
    "print(np.where(hist>10))\n",
    "\n",
    "#Restrict the graph to nodes that belong to the connected component\n",
    "u =gt. GraphView(G, vfilt=comp.a == np.where(hist>10)[0])\n",
    "\n",
    "#check vertices and edges \n",
    "\n",
    "print('total number of vertices',G.num_vertices())\n",
    "print('total number of edges',G.num_edges())\n",
    "print('number of vertices in connected component',u.num_vertices())\n",
    "print('number of edges in connected component',u.num_edges())"
   ]
  },
  {
   "cell_type": "code",
   "execution_count": 131,
   "id": "d9984dd1-6e7d-447f-a5c0-f932a337ef00",
   "metadata": {},
   "outputs": [
    {
     "data": {
      "text/html": [
       "<div>\n",
       "<style scoped>\n",
       "    .dataframe tbody tr th:only-of-type {\n",
       "        vertical-align: middle;\n",
       "    }\n",
       "\n",
       "    .dataframe tbody tr th {\n",
       "        vertical-align: top;\n",
       "    }\n",
       "\n",
       "    .dataframe thead th {\n",
       "        text-align: right;\n",
       "    }\n",
       "</style>\n",
       "<table border=\"1\" class=\"dataframe\">\n",
       "  <thead>\n",
       "    <tr style=\"text-align: right;\">\n",
       "      <th></th>\n",
       "      <th>node_id</th>\n",
       "      <th>group</th>\n",
       "    </tr>\n",
       "  </thead>\n",
       "  <tbody>\n",
       "    <tr>\n",
       "      <th>0</th>\n",
       "      <td>405</td>\n",
       "      <td>0</td>\n",
       "    </tr>\n",
       "    <tr>\n",
       "      <th>1</th>\n",
       "      <td>1190</td>\n",
       "      <td>0</td>\n",
       "    </tr>\n",
       "    <tr>\n",
       "      <th>2</th>\n",
       "      <td>1132</td>\n",
       "      <td>0</td>\n",
       "    </tr>\n",
       "    <tr>\n",
       "      <th>3</th>\n",
       "      <td>731</td>\n",
       "      <td>0</td>\n",
       "    </tr>\n",
       "    <tr>\n",
       "      <th>4</th>\n",
       "      <td>1754</td>\n",
       "      <td>0</td>\n",
       "    </tr>\n",
       "  </tbody>\n",
       "</table>\n",
       "</div>"
      ],
      "text/plain": [
       "   node_id  group\n",
       "0      405      0\n",
       "1     1190      0\n",
       "2     1132      0\n",
       "3      731      0\n",
       "4     1754      0"
      ]
     },
     "execution_count": 131,
     "metadata": {},
     "output_type": "execute_result"
    }
   ],
   "source": [
    "df_nodes.head()"
   ]
  },
  {
   "cell_type": "code",
   "execution_count": 132,
   "id": "207b8b92-4ed7-4dd4-aaa7-a9f08d15bce8",
   "metadata": {},
   "outputs": [
    {
     "data": {
      "image/png": "[encoded data removed]",
      "text/plain": [
       "<Figure size 576x144 with 2 Axes>"
      ]
     },
     "metadata": {
      "needs_background": "light"
     },
     "output_type": "display_data"
    }
   ],
   "source": [
    "fig, (ax1,ax2) = plt.subplots(1,2, figsize = (8,2))\n",
    "ind = ax1.hist(indeg,bins= 200)\n",
    "outd = ax2.hist(outdeg,bins= 200)\n",
    "ax2.set_yscale('log')\n",
    "ax1.set_xlabel('In degree')\n",
    "ax1.set_ylabel('Number of nodes')\n",
    "\n",
    "ax2.set_xlabel('Out degree')\n",
    "ax2.set_ylabel('Number of nodes')\n",
    "\n",
    "plt.tight_layout()"
   ]
  },
  {
   "cell_type": "code",
   "execution_count": 133,
   "id": "bc4dd175-c896-4805-97f6-9c2608489070",
   "metadata": {},
   "outputs": [],
   "source": [
    "#pos = gt.fruchterman_reingold_layout(u, n_iter=1000,grid=True)\n",
    "pos = gt.sfdp_layout(u)\n"
   ]
  },
  {
   "cell_type": "code",
   "execution_count": 134,
   "id": "67ce3202-609b-4f6d-8008-f063beaed8e2",
   "metadata": {},
   "outputs": [
    {
     "data": {
      "text/plain": [
       "<VertexPropertyMap object with value type 'vector<double>', for Graph 0x7fd18e4303d0, at 0x7fd200717640>"
      ]
     },
     "execution_count": 134,
     "metadata": {},
     "output_type": "execute_result"
    }
   ],
   "source": [
    "pos = gt.sfdp_layout(u)\n",
    "deg = u.degree_property_map(\"in\")\n",
    "deg.a = 4 * (np.sqrt(deg.a) * 0.5 + 0.4)\n",
    "ebet = gt.betweenness(u)[1]\n",
    "ebet.a /= ebet.a.max() / 10.\n",
    "eorder = ebet.copy()\n",
    "eorder.a *= -1\n",
    "gt.graph_draw(u, pos=pos, vertex_size=deg, vertex_fill_color=vprop_label, vorder=deg,\n",
    "              edge_color=ebet,vcmap=plt.get_cmap('cool'),output = 's8_e1.png')"
   ]
  },
  {
   "cell_type": "markdown",
   "id": "1cd6b3b9-957c-4767-8b73-6cc805198b42",
   "metadata": {},
   "source": [
    "## EXPERIMENT 9"
   ]
  },
  {
   "cell_type": "code",
   "execution_count": 109,
   "id": "a9965c0a-c45e-40a7-91ba-e931f9aa85dd",
   "metadata": {},
   "outputs": [
    {
     "name": "stdout",
     "output_type": "stream",
     "text": [
      "(array([0]),)\n",
      "total number of vertices 2000\n",
      "total number of edges 7996\n",
      "number of vertices in connected component 1090\n",
      "number of edges in connected component 5387\n"
     ]
    }
   ],
   "source": [
    "#TO READ\n",
    "\n",
    "t = 9\n",
    "i = 0\n",
    "\n",
    "#EDGE_LIST\n",
    "adj = sparse.load_npz(f\"networks/adj_matrix_type_{str(t)}_run_{str(i)}.npz\")\n",
    "edge_list = np.column_stack((adj.row,adj.col,adj.data))\n",
    "el_dataframe = pd.DataFrame(edge_list,columns = ['source','target','is_link'])\n",
    "\n",
    "\n",
    "#NODE_LIST\n",
    "df_nodes = pd.read_csv(f\"networks/nodelist_{str(t)}_run_{str(i)}.csv\")\n",
    "\n",
    "edges = el_dataframe.to_numpy()\n",
    "#define graph as directed\n",
    "G = gt.Graph(directed=True)\n",
    "\n",
    "#add the edge list to the graph, vertices are added with the number label\n",
    "G.add_edge_list(edges)\n",
    "\n",
    "vprop_label = G.new_vertex_property(\"double\")            \n",
    "v = G.vertex(10)\n",
    "for v in G.iter_vertices():\n",
    "    label = df_nodes[df_nodes.node_id==v]['group']\n",
    "    vprop_label[v] = label.values[0]\n",
    "    \n",
    "vertices = G.get_vertices()\n",
    "indeg = G.get_in_degrees(vertices)\n",
    "outdeg = G.get_out_degrees(vertices)\n",
    "\n",
    "#get connected components with a histogram of the belonging nodes\n",
    "comp, hist = gt.label_components(G,directed = True)\n",
    "\n",
    "#check which connected components have more than 1 node (in our case one)\n",
    "print(np.where(hist>10))\n",
    "\n",
    "#Restrict the graph to nodes that belong to the connected component\n",
    "u =gt. GraphView(G, vfilt=comp.a == np.where(hist>10)[0])\n",
    "\n",
    "#check vertices and edges \n",
    "\n",
    "print('total number of vertices',G.num_vertices())\n",
    "print('total number of edges',G.num_edges())\n",
    "print('number of vertices in connected component',u.num_vertices())\n",
    "print('number of edges in connected component',u.num_edges())"
   ]
  },
  {
   "cell_type": "code",
   "execution_count": 110,
   "id": "216e8c5f-00d4-4275-a11d-58acc6498ca5",
   "metadata": {},
   "outputs": [
    {
     "data": {
      "image/png": "[encoded data removed]",
      "text/plain": [
       "<Figure size 576x144 with 2 Axes>"
      ]
     },
     "metadata": {
      "needs_background": "light"
     },
     "output_type": "display_data"
    }
   ],
   "source": [
    "fig, (ax1,ax2) = plt.subplots(1,2, figsize = (8,2))\n",
    "ind = ax1.hist(indeg,bins= 200)\n",
    "outd = ax2.hist(outdeg,bins= 200)\n",
    "ax2.set_yscale('log')\n",
    "ax1.set_xlabel('In degree')\n",
    "ax1.set_ylabel('Number of nodes')\n",
    "\n",
    "ax2.set_xlabel('Out degree')\n",
    "ax2.set_ylabel('Number of nodes')\n",
    "\n",
    "plt.tight_layout()"
   ]
  },
  {
   "cell_type": "code",
   "execution_count": 118,
   "id": "bec6c3f3-8120-4af2-936d-2bd5e44903c1",
   "metadata": {},
   "outputs": [
    {
     "data": {
      "text/plain": [
       "<VertexPropertyMap object with value type 'vector<double>', for Graph 0x7fd20085f250, at 0x7fd20085c7f0>"
      ]
     },
     "execution_count": 118,
     "metadata": {},
     "output_type": "execute_result"
    }
   ],
   "source": [
    "pos = gt.sfdp_layout(u)\n",
    "deg = u.degree_property_map(\"in\")\n",
    "deg.a = 4 * (np.sqrt(deg.a) * 0.5 + 0.4)\n",
    "ebet = gt.betweenness(u)[1]\n",
    "ebet.a /= ebet.a.max() / 10.\n",
    "eorder = ebet.copy()\n",
    "eorder.a *= -1\n",
    "gt.graph_draw(u, pos=pos, vertex_size=deg, vertex_fill_color=vprop_label, vorder=deg,\n",
    "              edge_color=ebet,vcmap=plt.get_cmap('cool'),output='e9.png')"
   ]
  },
  {
   "cell_type": "code",
   "execution_count": null,
   "id": "4f1083cd-cd91-48b4-816f-eb70413f2264",
   "metadata": {},
   "outputs": [],
   "source": [
    "#### "
   ]
  }
 ],
 "metadata": {
  "kernelspec": {
   "display_name": "Python [conda env:gt]",
   "language": "python",
   "name": "conda-env-gt-py"
  },
  "language_info": {
   "codemirror_mode": {
    "name": "ipython",
    "version": 3
   },
   "file_extension": ".py",
   "mimetype": "text/x-python",
   "name": "python",
   "nbconvert_exporter": "python",
   "pygments_lexer": "ipython3",
   "version": "3.10.2"
  }
 },
 "nbformat": 4,
 "nbformat_minor": 5
}
