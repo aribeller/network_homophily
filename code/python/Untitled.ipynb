{
 "cells": [
  {
   "cell_type": "code",
   "execution_count": 10,
   "id": "55c47b8a-9c8b-4dd3-978e-d2509acc3ab0",
   "metadata": {},
   "outputs": [],
   "source": [
    "import matplotlib.pyplot as plt\n",
    "import powerlaw\n",
    "import numpy as np"
   ]
  },
  {
   "cell_type": "code",
   "execution_count": 21,
   "id": "222b920b-1a15-4e21-b3bd-d7e9dd36b4b4",
   "metadata": {},
   "outputs": [],
   "source": [
    "NM= 2000\n",
    "plo_M = 2\n",
    "act_M2 = powerlaw.Power_Law(parameters=[plo_M], discrete=True).generate_random(NM)\n",
    "plo_M = 3\n",
    "act_M3 = powerlaw.Power_Law(parameters=[plo_M], discrete=True).generate_random(NM)\n",
    "plo_M = 4\n",
    "act_M4 = powerlaw.Power_Law(parameters=[plo_M], discrete=True).generate_random(NM)\n",
    "plo_M = 5\n",
    "act_M5 = powerlaw.Power_Law(parameters=[plo_M], discrete=True).generate_random(NM)"
   ]
  },
  {
   "cell_type": "code",
   "execution_count": 22,
   "id": "f4a1138b-2e84-456c-8e30-e7f4be3af9e5",
   "metadata": {},
   "outputs": [
    {
     "data": {
      "text/plain": [
       "<matplotlib.legend.Legend at 0x7fae015f5310>"
      ]
     },
     "execution_count": 22,
     "metadata": {},
     "output_type": "execute_result"
    },
    {
     "data": {
      "image/png": "[encoded data removed]",
      "text/plain": [
       "<Figure size 432x288 with 1 Axes>"
      ]
     },
     "metadata": {
      "needs_background": "light"
     },
     "output_type": "display_data"
    }
   ],
   "source": [
    "plt.plot(np.sort(act_M2),label = '2')\n",
    "plt.plot(np.sort(act_M3),label = '3')\n",
    "plt.plot(np.sort(act_M4),label = '4')\n",
    "plt.plot(np.sort(act_M5),label = '5')\n",
    "plt.legend()"
   ]
  },
  {
   "cell_type": "code",
   "execution_count": 29,
   "id": "e86820b8-e22d-4805-99c9-e9a7de027a35",
   "metadata": {},
   "outputs": [],
   "source": [
    "plo_M=3\n",
    "plo_m1 =3\n",
    "plo_m2 =3\n",
    "\n",
    "NM=1500\n",
    "Nm1= 250\n",
    "Nm2 =250\n",
    "\n",
    "act_M = powerlaw.Power_Law(parameters=[plo_M], discrete=True).generate_random(NM)\n",
    "act_m1 = powerlaw.Power_Law(parameters=[plo_m1], discrete=True).generate_random(Nm1)\n",
    "act_m2 = powerlaw.Power_Law(parameters=[plo_m2], discrete=True).generate_random(Nm2)\n",
    "activity = np.concatenate([act_M, act_m1, act_m2])\n",
    "activity /= activity.sum()"
   ]
  },
  {
   "cell_type": "code",
   "execution_count": 30,
   "id": "7763ad30-b486-43e2-b269-e7024c34566f",
   "metadata": {},
   "outputs": [
    {
     "data": {
      "text/plain": [
       "[<matplotlib.lines.Line2D at 0x7fae013d8880>]"
      ]
     },
     "execution_count": 30,
     "metadata": {},
     "output_type": "execute_result"
    },
    {
     "data": {
      "image/png": "[encoded data removed]",
      "text/plain": [
       "<Figure size 432x288 with 1 Axes>"
      ]
     },
     "metadata": {
      "needs_background": "light"
     },
     "output_type": "display_data"
    }
   ],
   "source": [
    "plt.plot(np.sort(activity))"
   ]
  },
  {
   "cell_type": "code",
   "execution_count": null,
   "id": "556019e8-0f9d-43ee-bba9-78d56e51cbf9",
   "metadata": {},
   "outputs": [],
   "source": []
  }
 ],
 "metadata": {
  "kernelspec": {
   "display_name": "Python 3 (ipykernel)",
   "language": "python",
   "name": "python3"
  },
  "language_info": {
   "codemirror_mode": {
    "name": "ipython",
    "version": 3
   },
   "file_extension": ".py",
   "mimetype": "text/x-python",
   "name": "python",
   "nbconvert_exporter": "python",
   "pygments_lexer": "ipython3",
   "version": "3.8.5"
  }
 },
 "nbformat": 4,
 "nbformat_minor": 5
}
