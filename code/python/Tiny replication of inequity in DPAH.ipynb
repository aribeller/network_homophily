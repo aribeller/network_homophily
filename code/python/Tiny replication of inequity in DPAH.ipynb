{
 "cells": [
  {
   "cell_type": "markdown",
   "metadata": {},
   "source": [
    "This is a tiny amount of scaffolding around the directed homophilic preferential attachment code written by Lisette Espin and others ([available here](https://github.com/gesiscss/Homophilic_Directed_ScaleFree_Networks)). In particular, we replicate a simple case where homophily within groups can lead to inequities between groups, defined as underrepresentation of minorities in the top k% of ranks."
   ]
  },
  {
   "cell_type": "code",
   "execution_count": 1,
   "metadata": {},
   "outputs": [],
   "source": [
    "%load_ext autoreload\n",
    "%autoreload 2\n",
    "%matplotlib inline\n",
    "\n",
    "import networkx as nx\n",
    "import matplotlib.pyplot as plt\n",
    "import seaborn as sns\n",
    "\n",
    "from paper.DPAH import DPAH"
   ]
  },
  {
   "cell_type": "code",
   "execution_count": 2,
   "metadata": {},
   "outputs": [],
   "source": [
    "def compute_inequity(g, k):\n",
    "    \"\"\"Compute the proportion of minorities in the top k ranks of g\"\"\"\n",
    "    node_pageranks = nx.pagerank(g)\n",
    "    node_pageranks_sorted = sorted(node_pageranks.items(), key=lambda x: x[1], reverse=True)\n",
    "    top_k = node_pageranks_sorted[:k]\n",
    "    num_top_k_minority = sum([g.nodes[node_id]['m'] for (node_id, _) in top_k])\n",
    "    \n",
    "    return num_top_k_minority / k    "
   ]
  },
  {
   "cell_type": "code",
   "execution_count": 3,
   "metadata": {
    "scrolled": true
   },
   "outputs": [
    {
     "name": "stdout",
     "output_type": "stream",
     "text": [
      "50\n"
     ]
    }
   ],
   "source": [
    "# Number of nodes\n",
    "N = 1000\n",
    "\n",
    "# Top beta% of rankings to consider for inequity\n",
    "beta = 0.05\n",
    "\n",
    "# Top k nodes to consider for inequity. k = N * beta\n",
    "k = int(N * beta)\n",
    "\n",
    "# Fraction minority\n",
    "fm = 0.2\n",
    "\n",
    "# homophily within majority group\n",
    "h_MM = 0.8\n",
    "\n",
    "# homophily within minority group\n",
    "h_mm = 0.8\n",
    "\n",
    "print(k)"
   ]
  },
  {
   "cell_type": "code",
   "execution_count": 4,
   "metadata": {},
   "outputs": [],
   "source": [
    "results = []\n",
    "\n",
    "for i in range(5):\n",
    "    g = DPAH(N=N, fm=fm, d=0.001, plo_M=2.5, plo_m=2.5, h_MM=h_MM, h_mm=h_mm, verbose=False, seed=i)\n",
    "    prop_top_k_minority = compute_inequity(g, k)\n",
    "    results.append(prop_top_k_minority)"
   ]
  },
  {
   "cell_type": "code",
   "execution_count": 5,
   "metadata": {},
   "outputs": [
    {
     "data": {
      "text/plain": [
       "[0.12, 0.12, 0.08, 0.1, 0.18]"
      ]
     },
     "execution_count": 5,
     "metadata": {},
     "output_type": "execute_result"
    }
   ],
   "source": [
    "results"
   ]
  },
  {
   "cell_type": "markdown",
   "metadata": {},
   "source": [
    "With strong homophily (h_MM=h_mm=0.8), in all five runs minorities are underrepresented in the top 5% (50) of ranks. In particular, with equity, we'd expect an average representation of 20% in the top ranks."
   ]
  }
 ],
 "metadata": {
  "kernelspec": {
   "display_name": "Python 3 (ipykernel)",
   "language": "python",
   "name": "python3"
  },
  "language_info": {
   "codemirror_mode": {
    "name": "ipython",
    "version": 3
   },
   "file_extension": ".py",
   "mimetype": "text/x-python",
   "name": "python",
   "nbconvert_exporter": "python",
   "pygments_lexer": "ipython3",
   "version": "3.8.12"
  }
 },
 "nbformat": 4,
 "nbformat_minor": 2
}
