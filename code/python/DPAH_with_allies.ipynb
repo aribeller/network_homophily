{
 "cells": [
  {
   "cell_type": "markdown",
   "metadata": {},
   "source": [
    "This is a tiny amount of scaffolding around the directed homophilic preferential attachment code written by Lisette Espin and others ([available here](https://github.com/gesiscss/Homophilic_Directed_ScaleFree_Networks)). In particular, we replicate a simple case where homophily within groups can lead to inequities between groups, defined as underrepresentation of minorities in the top k% of ranks."
   ]
  },
  {
   "cell_type": "code",
   "execution_count": 82,
   "metadata": {},
   "outputs": [
    {
     "name": "stdout",
     "output_type": "stream",
     "text": [
      "The autoreload extension is already loaded. To reload it, use:\n",
      "  %reload_ext autoreload\n"
     ]
    }
   ],
   "source": [
    "%load_ext autoreload\n",
    "%autoreload 2\n",
    "%matplotlib inline\n",
    "\n",
    "import time\n",
    "\n",
    "import numpy as np\n",
    "import networkx as nx\n",
    "import matplotlib.pyplot as plt\n",
    "import seaborn as sns\n",
    "\n",
    "from paper.DPAH import DPAH\n",
    "from DPAH2 import DPAH2"
   ]
  },
  {
   "cell_type": "code",
   "execution_count": 60,
   "metadata": {},
   "outputs": [],
   "source": [
    "def compute_inequity_old(g, k):\n",
    "    \"\"\"Compute the proportion of minorities in the top k ranks of g\"\"\"\n",
    "    node_pageranks = nx.pagerank(g)\n",
    "    node_pageranks_sorted = sorted(node_pageranks.items(), key=lambda x: x[1], reverse=True)\n",
    "    top_k = node_pageranks_sorted[:k]\n",
    "    \n",
    "    num_top_k_minority = sum([g.nodes[node_id]['m'] for (node_id, _) in top_k])\n",
    "    \n",
    "    return num_top_k_minority / k    "
   ]
  },
  {
   "cell_type": "code",
   "execution_count": 68,
   "metadata": {},
   "outputs": [],
   "source": [
    "def compute_inequity(g, k):\n",
    "    \"\"\"Compute the proportion of allies and minorities in the top k ranks of g\"\"\"\n",
    "    node_pageranks = nx.pagerank(g)\n",
    "    node_pageranks_sorted = sorted(node_pageranks.items(), key=lambda x: x[1], reverse=True)\n",
    "    top_k = node_pageranks_sorted[:k]\n",
    "    \n",
    "    num_top_k_allies = 0\n",
    "    num_top_k_minority = 0\n",
    "    \n",
    "    for (node_id, _) in top_k:\n",
    "        if g.nodes[node_id]['m'] == 1: # is an ally:\n",
    "            num_top_k_allies += 1\n",
    "        elif g.nodes[node_id]['m'] == 2: # is minority\n",
    "            num_top_k_minority += 1\n",
    "    \n",
    "    return num_top_k_allies / k, num_top_k_minority / k"
   ]
  },
  {
   "cell_type": "code",
   "execution_count": 80,
   "metadata": {
    "scrolled": true
   },
   "outputs": [
    {
     "name": "stdout",
     "output_type": "stream",
     "text": [
      "50\n"
     ]
    }
   ],
   "source": [
    "# Number of nodes\n",
    "N = 1000\n",
    "\n",
    "# Top beta% of rankings to consider for inequity\n",
    "beta = 0.05\n",
    "\n",
    "# Top k nodes to consider for inequity. k = N * beta\n",
    "k = int(N * beta)\n",
    "\n",
    "# Fraction minority\n",
    "fm = 0.2\n",
    "\n",
    "# Fraction allies\n",
    "fa = 0\n",
    "\n",
    "# homophily within majority group\n",
    "h_MM = 0.8\n",
    "\n",
    "# homophily within minority group\n",
    "h_mm = 0.8\n",
    "\n",
    "print(k)"
   ]
  },
  {
   "cell_type": "code",
   "execution_count": 83,
   "metadata": {},
   "outputs": [
    {
     "data": {
      "text/plain": [
       "15.290210008621216"
      ]
     },
     "execution_count": 83,
     "metadata": {},
     "output_type": "execute_result"
    }
   ],
   "source": [
    "start = time.time()\n",
    "\n",
    "results = []\n",
    "\n",
    "for i in range(3):\n",
    "    g = DPAH(N=N, fm=fm, d=0.0015, plo_M=3, plo_m=3, h_MM=h_MM, h_mm=h_mm, verbose=False, seed=i)\n",
    "    prop_top_k_minority = compute_inequity_old(g, k)\n",
    "    results.append(prop_top_k_minority)\n",
    "    \n",
    "end = time.time()\n",
    "\n",
    "end - start"
   ]
  },
  {
   "cell_type": "code",
   "execution_count": 84,
   "metadata": {},
   "outputs": [
    {
     "data": {
      "text/plain": [
       "[0.06, 0.14, 0.08]"
      ]
     },
     "execution_count": 84,
     "metadata": {},
     "output_type": "execute_result"
    }
   ],
   "source": [
    "results"
   ]
  },
  {
   "cell_type": "markdown",
   "metadata": {},
   "source": [
    "With strong homophily (h_MM=h_mm=0.8), in all five runs minorities are underrepresented in the top 5% (50) of ranks. In particular, with equity, we'd expect an average representation of 20% in the top ranks."
   ]
  },
  {
   "cell_type": "code",
   "execution_count": null,
   "metadata": {},
   "outputs": [
    {
     "name": "stdout",
     "output_type": "stream",
     "text": [
      "0.0\n"
     ]
    }
   ],
   "source": [
    "results = []\n",
    "\n",
    "for fraction_allies in np.linspace(0, 1 - fm, 20):\n",
    "    print(fraction_allies)\n",
    "    for i in range(3):\n",
    "        g = DPAH2(\n",
    "            N=N,\n",
    "            fm=fm,\n",
    "            fa=fraction_allies, # Fraction that are allies\n",
    "            d=0.0015,\n",
    "            plo_M=3,\n",
    "            plo_m=3,\n",
    "            h_MM=h_MM,\n",
    "            h_mm=h_mm,\n",
    "            verbose=False,\n",
    "            seed=i)\n",
    "        prop_top_k_ally, prop_top_k_minority = compute_inequity(g, k)\n",
    "        results.append((fraction_allies, prop_top_k_ally, prop_top_k_minority))"
   ]
  },
  {
   "cell_type": "code",
   "execution_count": 89,
   "metadata": {},
   "outputs": [
    {
     "data": {
      "text/plain": [
       "[(0.0, 0.0, 0.06),\n",
       " (0.0, 0.0, 0.14),\n",
       " (0.0, 0.0, 0.08),\n",
       " (0.8, 0.34, 0.66),\n",
       " (0.8, 0.24, 0.76),\n",
       " (0.8, 0.3, 0.7)]"
      ]
     },
     "execution_count": 89,
     "metadata": {},
     "output_type": "execute_result"
    }
   ],
   "source": [
    "results"
   ]
  }
 ],
 "metadata": {
  "kernelspec": {
   "display_name": "Python 3 (ipykernel)",
   "language": "python",
   "name": "python3"
  },
  "language_info": {
   "codemirror_mode": {
    "name": "ipython",
    "version": 3
   },
   "file_extension": ".py",
   "mimetype": "text/x-python",
   "name": "python",
   "nbconvert_exporter": "python",
   "pygments_lexer": "ipython3",
   "version": "3.8.12"
  }
 },
 "nbformat": 4,
 "nbformat_minor": 2
}
